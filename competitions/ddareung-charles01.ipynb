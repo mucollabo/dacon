{
 "cells": [
  {
   "cell_type": "markdown",
   "id": "fb0ae9ff",
   "metadata": {
    "id": "vPJ9jVBtNLHm",
    "papermill": {
     "duration": 0.007503,
     "end_time": "2022-07-04T02:39:54.717932",
     "exception": false,
     "start_time": "2022-07-04T02:39:54.710429",
     "status": "completed"
    },
    "tags": []
   },
   "source": [
    "## 라이브러리 로딩"
   ]
  },
  {
   "cell_type": "code",
   "execution_count": 1,
   "id": "828c6b0d",
   "metadata": {
    "execution": {
     "iopub.execute_input": "2022-07-04T02:39:54.733626Z",
     "iopub.status.busy": "2022-07-04T02:39:54.732821Z",
     "iopub.status.idle": "2022-07-04T02:39:54.754852Z",
     "shell.execute_reply": "2022-07-04T02:39:54.753698Z"
    },
    "papermill": {
     "duration": 0.034127,
     "end_time": "2022-07-04T02:39:54.758851",
     "exception": false,
     "start_time": "2022-07-04T02:39:54.724724",
     "status": "completed"
    },
    "tags": []
   },
   "outputs": [
    {
     "name": "stdout",
     "output_type": "stream",
     "text": [
      "/kaggle/input/ddareung/submission.csv\n",
      "/kaggle/input/ddareung/train.csv\n",
      "/kaggle/input/ddareung/test.csv\n"
     ]
    }
   ],
   "source": [
    "import os\n",
    "for dirname, _, filenames in os.walk('/kaggle/input'):\n",
    "    for filename in filenames:\n",
    "        print(os.path.join(dirname, filename))"
   ]
  },
  {
   "cell_type": "code",
   "execution_count": 2,
   "id": "e6417e72",
   "metadata": {
    "execution": {
     "iopub.execute_input": "2022-07-04T02:39:54.775498Z",
     "iopub.status.busy": "2022-07-04T02:39:54.774819Z",
     "iopub.status.idle": "2022-07-04T02:39:56.097476Z",
     "shell.execute_reply": "2022-07-04T02:39:56.096494Z"
    },
    "id": "v-zC2rkdKDcI",
    "papermill": {
     "duration": 1.333514,
     "end_time": "2022-07-04T02:39:56.100144",
     "exception": false,
     "start_time": "2022-07-04T02:39:54.766630",
     "status": "completed"
    },
    "tags": []
   },
   "outputs": [],
   "source": [
    "import numpy as np\n",
    "import pandas as pd\n",
    "from sklearn.ensemble import RandomForestRegressor"
   ]
  },
  {
   "cell_type": "markdown",
   "id": "faa25675",
   "metadata": {
    "id": "v8i_07N4LCku",
    "papermill": {
     "duration": 0.006406,
     "end_time": "2022-07-04T02:39:56.113095",
     "exception": false,
     "start_time": "2022-07-04T02:39:56.106689",
     "status": "completed"
    },
    "tags": []
   },
   "source": [
    "## 데이터 로딩 및 확인"
   ]
  },
  {
   "cell_type": "code",
   "execution_count": 3,
   "id": "141cf7c2",
   "metadata": {
    "execution": {
     "iopub.execute_input": "2022-07-04T02:39:56.128668Z",
     "iopub.status.busy": "2022-07-04T02:39:56.127446Z",
     "iopub.status.idle": "2022-07-04T02:39:56.153930Z",
     "shell.execute_reply": "2022-07-04T02:39:56.152834Z"
    },
    "id": "to0uUNr6KHoq",
    "papermill": {
     "duration": 0.036981,
     "end_time": "2022-07-04T02:39:56.156513",
     "exception": false,
     "start_time": "2022-07-04T02:39:56.119532",
     "status": "completed"
    },
    "tags": []
   },
   "outputs": [],
   "source": [
    "train = pd.read_csv('../input/ddareung/train.csv') \n",
    "test = pd.read_csv('../input/ddareung/test.csv')"
   ]
  },
  {
   "cell_type": "code",
   "execution_count": 4,
   "id": "4e22e799",
   "metadata": {
    "execution": {
     "iopub.execute_input": "2022-07-04T02:39:56.171980Z",
     "iopub.status.busy": "2022-07-04T02:39:56.171245Z",
     "iopub.status.idle": "2022-07-04T02:39:56.197563Z",
     "shell.execute_reply": "2022-07-04T02:39:56.196067Z"
    },
    "id": "f_vUhom0LGUv",
    "outputId": "4a79757a-8728-4eb9-b856-c338c92f9cdb",
    "papermill": {
     "duration": 0.03696,
     "end_time": "2022-07-04T02:39:56.200197",
     "exception": false,
     "start_time": "2022-07-04T02:39:56.163237",
     "status": "completed"
    },
    "tags": []
   },
   "outputs": [
    {
     "name": "stdout",
     "output_type": "stream",
     "text": [
      "<class 'pandas.core.frame.DataFrame'>\n",
      "RangeIndex: 1459 entries, 0 to 1458\n",
      "Data columns (total 11 columns):\n",
      " #   Column                  Non-Null Count  Dtype  \n",
      "---  ------                  --------------  -----  \n",
      " 0   id                      1459 non-null   int64  \n",
      " 1   hour                    1459 non-null   int64  \n",
      " 2   hour_bef_temperature    1457 non-null   float64\n",
      " 3   hour_bef_precipitation  1457 non-null   float64\n",
      " 4   hour_bef_windspeed      1450 non-null   float64\n",
      " 5   hour_bef_humidity       1457 non-null   float64\n",
      " 6   hour_bef_visibility     1457 non-null   float64\n",
      " 7   hour_bef_ozone          1383 non-null   float64\n",
      " 8   hour_bef_pm10           1369 non-null   float64\n",
      " 9   hour_bef_pm2.5          1342 non-null   float64\n",
      " 10  count                   1459 non-null   float64\n",
      "dtypes: float64(9), int64(2)\n",
      "memory usage: 125.5 KB\n"
     ]
    }
   ],
   "source": [
    "train.info()"
   ]
  },
  {
   "cell_type": "code",
   "execution_count": 5,
   "id": "d807b14a",
   "metadata": {
    "execution": {
     "iopub.execute_input": "2022-07-04T02:39:56.215838Z",
     "iopub.status.busy": "2022-07-04T02:39:56.214728Z",
     "iopub.status.idle": "2022-07-04T02:39:56.241643Z",
     "shell.execute_reply": "2022-07-04T02:39:56.240750Z"
    },
    "id": "__07tYh_KIZ9",
    "outputId": "ad9c8c05-f599-469b-ffa2-daa343fa061e",
    "papermill": {
     "duration": 0.037106,
     "end_time": "2022-07-04T02:39:56.243884",
     "exception": false,
     "start_time": "2022-07-04T02:39:56.206778",
     "status": "completed"
    },
    "tags": []
   },
   "outputs": [
    {
     "data": {
      "text/html": [
       "<div>\n",
       "<style scoped>\n",
       "    .dataframe tbody tr th:only-of-type {\n",
       "        vertical-align: middle;\n",
       "    }\n",
       "\n",
       "    .dataframe tbody tr th {\n",
       "        vertical-align: top;\n",
       "    }\n",
       "\n",
       "    .dataframe thead th {\n",
       "        text-align: right;\n",
       "    }\n",
       "</style>\n",
       "<table border=\"1\" class=\"dataframe\">\n",
       "  <thead>\n",
       "    <tr style=\"text-align: right;\">\n",
       "      <th></th>\n",
       "      <th>id</th>\n",
       "      <th>hour</th>\n",
       "      <th>hour_bef_temperature</th>\n",
       "      <th>hour_bef_precipitation</th>\n",
       "      <th>hour_bef_windspeed</th>\n",
       "      <th>hour_bef_humidity</th>\n",
       "      <th>hour_bef_visibility</th>\n",
       "      <th>hour_bef_ozone</th>\n",
       "      <th>hour_bef_pm10</th>\n",
       "      <th>hour_bef_pm2.5</th>\n",
       "      <th>count</th>\n",
       "    </tr>\n",
       "  </thead>\n",
       "  <tbody>\n",
       "    <tr>\n",
       "      <th>0</th>\n",
       "      <td>3</td>\n",
       "      <td>20</td>\n",
       "      <td>16.3</td>\n",
       "      <td>1.0</td>\n",
       "      <td>1.5</td>\n",
       "      <td>89.0</td>\n",
       "      <td>576.0</td>\n",
       "      <td>0.027</td>\n",
       "      <td>76.0</td>\n",
       "      <td>33.0</td>\n",
       "      <td>49.0</td>\n",
       "    </tr>\n",
       "    <tr>\n",
       "      <th>1</th>\n",
       "      <td>6</td>\n",
       "      <td>13</td>\n",
       "      <td>20.1</td>\n",
       "      <td>0.0</td>\n",
       "      <td>1.4</td>\n",
       "      <td>48.0</td>\n",
       "      <td>916.0</td>\n",
       "      <td>0.042</td>\n",
       "      <td>73.0</td>\n",
       "      <td>40.0</td>\n",
       "      <td>159.0</td>\n",
       "    </tr>\n",
       "    <tr>\n",
       "      <th>2</th>\n",
       "      <td>7</td>\n",
       "      <td>6</td>\n",
       "      <td>13.9</td>\n",
       "      <td>0.0</td>\n",
       "      <td>0.7</td>\n",
       "      <td>79.0</td>\n",
       "      <td>1382.0</td>\n",
       "      <td>0.033</td>\n",
       "      <td>32.0</td>\n",
       "      <td>19.0</td>\n",
       "      <td>26.0</td>\n",
       "    </tr>\n",
       "    <tr>\n",
       "      <th>3</th>\n",
       "      <td>8</td>\n",
       "      <td>23</td>\n",
       "      <td>8.1</td>\n",
       "      <td>0.0</td>\n",
       "      <td>2.7</td>\n",
       "      <td>54.0</td>\n",
       "      <td>946.0</td>\n",
       "      <td>0.040</td>\n",
       "      <td>75.0</td>\n",
       "      <td>64.0</td>\n",
       "      <td>57.0</td>\n",
       "    </tr>\n",
       "    <tr>\n",
       "      <th>4</th>\n",
       "      <td>9</td>\n",
       "      <td>18</td>\n",
       "      <td>29.5</td>\n",
       "      <td>0.0</td>\n",
       "      <td>4.8</td>\n",
       "      <td>7.0</td>\n",
       "      <td>2000.0</td>\n",
       "      <td>0.057</td>\n",
       "      <td>27.0</td>\n",
       "      <td>11.0</td>\n",
       "      <td>431.0</td>\n",
       "    </tr>\n",
       "  </tbody>\n",
       "</table>\n",
       "</div>"
      ],
      "text/plain": [
       "   id  hour  hour_bef_temperature  hour_bef_precipitation  hour_bef_windspeed  \\\n",
       "0   3    20                  16.3                     1.0                 1.5   \n",
       "1   6    13                  20.1                     0.0                 1.4   \n",
       "2   7     6                  13.9                     0.0                 0.7   \n",
       "3   8    23                   8.1                     0.0                 2.7   \n",
       "4   9    18                  29.5                     0.0                 4.8   \n",
       "\n",
       "   hour_bef_humidity  hour_bef_visibility  hour_bef_ozone  hour_bef_pm10  \\\n",
       "0               89.0                576.0           0.027           76.0   \n",
       "1               48.0                916.0           0.042           73.0   \n",
       "2               79.0               1382.0           0.033           32.0   \n",
       "3               54.0                946.0           0.040           75.0   \n",
       "4                7.0               2000.0           0.057           27.0   \n",
       "\n",
       "   hour_bef_pm2.5  count  \n",
       "0            33.0   49.0  \n",
       "1            40.0  159.0  \n",
       "2            19.0   26.0  \n",
       "3            64.0   57.0  \n",
       "4            11.0  431.0  "
      ]
     },
     "execution_count": 5,
     "metadata": {},
     "output_type": "execute_result"
    }
   ],
   "source": [
    "train.head()"
   ]
  },
  {
   "cell_type": "code",
   "execution_count": 6,
   "id": "abb4e5e0",
   "metadata": {
    "execution": {
     "iopub.execute_input": "2022-07-04T02:39:56.259994Z",
     "iopub.status.busy": "2022-07-04T02:39:56.259385Z",
     "iopub.status.idle": "2022-07-04T02:39:56.276691Z",
     "shell.execute_reply": "2022-07-04T02:39:56.275890Z"
    },
    "id": "pVxYli5iKLuf",
    "outputId": "9fd28f2b-9c35-46ff-bbd9-7fe251000784",
    "papermill": {
     "duration": 0.028361,
     "end_time": "2022-07-04T02:39:56.279257",
     "exception": false,
     "start_time": "2022-07-04T02:39:56.250896",
     "status": "completed"
    },
    "tags": []
   },
   "outputs": [
    {
     "data": {
      "text/html": [
       "<div>\n",
       "<style scoped>\n",
       "    .dataframe tbody tr th:only-of-type {\n",
       "        vertical-align: middle;\n",
       "    }\n",
       "\n",
       "    .dataframe tbody tr th {\n",
       "        vertical-align: top;\n",
       "    }\n",
       "\n",
       "    .dataframe thead th {\n",
       "        text-align: right;\n",
       "    }\n",
       "</style>\n",
       "<table border=\"1\" class=\"dataframe\">\n",
       "  <thead>\n",
       "    <tr style=\"text-align: right;\">\n",
       "      <th></th>\n",
       "      <th>id</th>\n",
       "      <th>hour</th>\n",
       "      <th>hour_bef_temperature</th>\n",
       "      <th>hour_bef_precipitation</th>\n",
       "      <th>hour_bef_windspeed</th>\n",
       "      <th>hour_bef_humidity</th>\n",
       "      <th>hour_bef_visibility</th>\n",
       "      <th>hour_bef_ozone</th>\n",
       "      <th>hour_bef_pm10</th>\n",
       "      <th>hour_bef_pm2.5</th>\n",
       "    </tr>\n",
       "  </thead>\n",
       "  <tbody>\n",
       "    <tr>\n",
       "      <th>0</th>\n",
       "      <td>0</td>\n",
       "      <td>7</td>\n",
       "      <td>20.7</td>\n",
       "      <td>0.0</td>\n",
       "      <td>1.3</td>\n",
       "      <td>62.0</td>\n",
       "      <td>954.0</td>\n",
       "      <td>0.041</td>\n",
       "      <td>44.0</td>\n",
       "      <td>27.0</td>\n",
       "    </tr>\n",
       "    <tr>\n",
       "      <th>1</th>\n",
       "      <td>1</td>\n",
       "      <td>17</td>\n",
       "      <td>30.0</td>\n",
       "      <td>0.0</td>\n",
       "      <td>5.4</td>\n",
       "      <td>33.0</td>\n",
       "      <td>1590.0</td>\n",
       "      <td>0.061</td>\n",
       "      <td>49.0</td>\n",
       "      <td>36.0</td>\n",
       "    </tr>\n",
       "    <tr>\n",
       "      <th>2</th>\n",
       "      <td>2</td>\n",
       "      <td>13</td>\n",
       "      <td>19.0</td>\n",
       "      <td>1.0</td>\n",
       "      <td>2.1</td>\n",
       "      <td>95.0</td>\n",
       "      <td>193.0</td>\n",
       "      <td>0.020</td>\n",
       "      <td>36.0</td>\n",
       "      <td>28.0</td>\n",
       "    </tr>\n",
       "    <tr>\n",
       "      <th>3</th>\n",
       "      <td>4</td>\n",
       "      <td>6</td>\n",
       "      <td>22.5</td>\n",
       "      <td>0.0</td>\n",
       "      <td>2.5</td>\n",
       "      <td>60.0</td>\n",
       "      <td>1185.0</td>\n",
       "      <td>0.027</td>\n",
       "      <td>52.0</td>\n",
       "      <td>38.0</td>\n",
       "    </tr>\n",
       "    <tr>\n",
       "      <th>4</th>\n",
       "      <td>5</td>\n",
       "      <td>22</td>\n",
       "      <td>14.6</td>\n",
       "      <td>1.0</td>\n",
       "      <td>3.4</td>\n",
       "      <td>93.0</td>\n",
       "      <td>218.0</td>\n",
       "      <td>0.041</td>\n",
       "      <td>18.0</td>\n",
       "      <td>15.0</td>\n",
       "    </tr>\n",
       "  </tbody>\n",
       "</table>\n",
       "</div>"
      ],
      "text/plain": [
       "   id  hour  hour_bef_temperature  hour_bef_precipitation  hour_bef_windspeed  \\\n",
       "0   0     7                  20.7                     0.0                 1.3   \n",
       "1   1    17                  30.0                     0.0                 5.4   \n",
       "2   2    13                  19.0                     1.0                 2.1   \n",
       "3   4     6                  22.5                     0.0                 2.5   \n",
       "4   5    22                  14.6                     1.0                 3.4   \n",
       "\n",
       "   hour_bef_humidity  hour_bef_visibility  hour_bef_ozone  hour_bef_pm10  \\\n",
       "0               62.0                954.0           0.041           44.0   \n",
       "1               33.0               1590.0           0.061           49.0   \n",
       "2               95.0                193.0           0.020           36.0   \n",
       "3               60.0               1185.0           0.027           52.0   \n",
       "4               93.0                218.0           0.041           18.0   \n",
       "\n",
       "   hour_bef_pm2.5  \n",
       "0            27.0  \n",
       "1            36.0  \n",
       "2            28.0  \n",
       "3            38.0  \n",
       "4            15.0  "
      ]
     },
     "execution_count": 6,
     "metadata": {},
     "output_type": "execute_result"
    }
   ],
   "source": [
    "test.head()"
   ]
  },
  {
   "cell_type": "markdown",
   "id": "238ce8bd",
   "metadata": {
    "id": "7T4NNGQbKT52",
    "papermill": {
     "duration": 0.00692,
     "end_time": "2022-07-04T02:39:56.294049",
     "exception": false,
     "start_time": "2022-07-04T02:39:56.287129",
     "status": "completed"
    },
    "tags": []
   },
   "source": [
    "## 결측치 확인 및 처리"
   ]
  },
  {
   "cell_type": "code",
   "execution_count": 7,
   "id": "6a48aaa7",
   "metadata": {
    "execution": {
     "iopub.execute_input": "2022-07-04T02:39:56.310328Z",
     "iopub.status.busy": "2022-07-04T02:39:56.309565Z",
     "iopub.status.idle": "2022-07-04T02:39:56.317535Z",
     "shell.execute_reply": "2022-07-04T02:39:56.316783Z"
    },
    "id": "Pdj-uplvKMsH",
    "outputId": "3da8274c-1e55-408d-917a-4e9502961959",
    "papermill": {
     "duration": 0.018726,
     "end_time": "2022-07-04T02:39:56.319790",
     "exception": false,
     "start_time": "2022-07-04T02:39:56.301064",
     "status": "completed"
    },
    "tags": []
   },
   "outputs": [
    {
     "data": {
      "text/plain": [
       "id                          0\n",
       "hour                        0\n",
       "hour_bef_temperature        2\n",
       "hour_bef_precipitation      2\n",
       "hour_bef_windspeed          9\n",
       "hour_bef_humidity           2\n",
       "hour_bef_visibility         2\n",
       "hour_bef_ozone             76\n",
       "hour_bef_pm10              90\n",
       "hour_bef_pm2.5            117\n",
       "count                       0\n",
       "dtype: int64"
      ]
     },
     "execution_count": 7,
     "metadata": {},
     "output_type": "execute_result"
    }
   ],
   "source": [
    "train.isnull().sum()"
   ]
  },
  {
   "cell_type": "code",
   "execution_count": 8,
   "id": "e604ba1a",
   "metadata": {
    "execution": {
     "iopub.execute_input": "2022-07-04T02:39:56.336735Z",
     "iopub.status.busy": "2022-07-04T02:39:56.336144Z",
     "iopub.status.idle": "2022-07-04T02:39:56.343454Z",
     "shell.execute_reply": "2022-07-04T02:39:56.342698Z"
    },
    "id": "J4VedGdkKOFe",
    "outputId": "322a3830-b70d-4254-8c33-83afd7088788",
    "papermill": {
     "duration": 0.018376,
     "end_time": "2022-07-04T02:39:56.345402",
     "exception": false,
     "start_time": "2022-07-04T02:39:56.327026",
     "status": "completed"
    },
    "tags": []
   },
   "outputs": [
    {
     "data": {
      "text/plain": [
       "id                         0\n",
       "hour                       0\n",
       "hour_bef_temperature       1\n",
       "hour_bef_precipitation     1\n",
       "hour_bef_windspeed         1\n",
       "hour_bef_humidity          1\n",
       "hour_bef_visibility        1\n",
       "hour_bef_ozone            35\n",
       "hour_bef_pm10             37\n",
       "hour_bef_pm2.5            36\n",
       "dtype: int64"
      ]
     },
     "execution_count": 8,
     "metadata": {},
     "output_type": "execute_result"
    }
   ],
   "source": [
    "test.isnull().sum()"
   ]
  },
  {
   "cell_type": "code",
   "execution_count": 9,
   "id": "1d83d259",
   "metadata": {
    "execution": {
     "iopub.execute_input": "2022-07-04T02:39:56.362995Z",
     "iopub.status.busy": "2022-07-04T02:39:56.362391Z",
     "iopub.status.idle": "2022-07-04T02:39:56.367003Z",
     "shell.execute_reply": "2022-07-04T02:39:56.366230Z"
    },
    "id": "M_-tgG09KQRC",
    "papermill": {
     "duration": 0.016565,
     "end_time": "2022-07-04T02:39:56.369124",
     "exception": false,
     "start_time": "2022-07-04T02:39:56.352559",
     "status": "completed"
    },
    "tags": []
   },
   "outputs": [],
   "source": [
    "train.fillna(0,inplace = True)\n",
    "test.fillna(0,inplace = True)"
   ]
  },
  {
   "cell_type": "code",
   "execution_count": 10,
   "id": "5be7e676",
   "metadata": {
    "execution": {
     "iopub.execute_input": "2022-07-04T02:39:56.386032Z",
     "iopub.status.busy": "2022-07-04T02:39:56.385300Z",
     "iopub.status.idle": "2022-07-04T02:39:56.399502Z",
     "shell.execute_reply": "2022-07-04T02:39:56.398146Z"
    },
    "papermill": {
     "duration": 0.025449,
     "end_time": "2022-07-04T02:39:56.401860",
     "exception": false,
     "start_time": "2022-07-04T02:39:56.376411",
     "status": "completed"
    },
    "tags": []
   },
   "outputs": [
    {
     "name": "stdout",
     "output_type": "stream",
     "text": [
      "<class 'pandas.core.frame.DataFrame'>\n",
      "RangeIndex: 1459 entries, 0 to 1458\n",
      "Data columns (total 11 columns):\n",
      " #   Column                  Non-Null Count  Dtype  \n",
      "---  ------                  --------------  -----  \n",
      " 0   id                      1459 non-null   int64  \n",
      " 1   hour                    1459 non-null   int64  \n",
      " 2   hour_bef_temperature    1459 non-null   float64\n",
      " 3   hour_bef_precipitation  1459 non-null   float64\n",
      " 4   hour_bef_windspeed      1459 non-null   float64\n",
      " 5   hour_bef_humidity       1459 non-null   float64\n",
      " 6   hour_bef_visibility     1459 non-null   float64\n",
      " 7   hour_bef_ozone          1459 non-null   float64\n",
      " 8   hour_bef_pm10           1459 non-null   float64\n",
      " 9   hour_bef_pm2.5          1459 non-null   float64\n",
      " 10  count                   1459 non-null   float64\n",
      "dtypes: float64(9), int64(2)\n",
      "memory usage: 125.5 KB\n"
     ]
    }
   ],
   "source": [
    "train.info()"
   ]
  },
  {
   "cell_type": "code",
   "execution_count": 11,
   "id": "52697ddb",
   "metadata": {
    "execution": {
     "iopub.execute_input": "2022-07-04T02:39:56.419440Z",
     "iopub.status.busy": "2022-07-04T02:39:56.418784Z",
     "iopub.status.idle": "2022-07-04T02:39:56.430113Z",
     "shell.execute_reply": "2022-07-04T02:39:56.429280Z"
    },
    "papermill": {
     "duration": 0.022774,
     "end_time": "2022-07-04T02:39:56.432257",
     "exception": false,
     "start_time": "2022-07-04T02:39:56.409483",
     "status": "completed"
    },
    "tags": []
   },
   "outputs": [
    {
     "name": "stdout",
     "output_type": "stream",
     "text": [
      "<class 'pandas.core.frame.DataFrame'>\n",
      "RangeIndex: 715 entries, 0 to 714\n",
      "Data columns (total 10 columns):\n",
      " #   Column                  Non-Null Count  Dtype  \n",
      "---  ------                  --------------  -----  \n",
      " 0   id                      715 non-null    int64  \n",
      " 1   hour                    715 non-null    int64  \n",
      " 2   hour_bef_temperature    715 non-null    float64\n",
      " 3   hour_bef_precipitation  715 non-null    float64\n",
      " 4   hour_bef_windspeed      715 non-null    float64\n",
      " 5   hour_bef_humidity       715 non-null    float64\n",
      " 6   hour_bef_visibility     715 non-null    float64\n",
      " 7   hour_bef_ozone          715 non-null    float64\n",
      " 8   hour_bef_pm10           715 non-null    float64\n",
      " 9   hour_bef_pm2.5          715 non-null    float64\n",
      "dtypes: float64(8), int64(2)\n",
      "memory usage: 56.0 KB\n"
     ]
    }
   ],
   "source": [
    "test.info()"
   ]
  },
  {
   "cell_type": "markdown",
   "id": "256161a0",
   "metadata": {
    "id": "WFmBcnx2LLDe",
    "papermill": {
     "duration": 0.007324,
     "end_time": "2022-07-04T02:39:56.447305",
     "exception": false,
     "start_time": "2022-07-04T02:39:56.439981",
     "status": "completed"
    },
    "tags": []
   },
   "source": [
    "## 모델 정의 및 학습"
   ]
  },
  {
   "cell_type": "code",
   "execution_count": 12,
   "id": "bd1b5185",
   "metadata": {
    "execution": {
     "iopub.execute_input": "2022-07-04T02:39:56.464365Z",
     "iopub.status.busy": "2022-07-04T02:39:56.463712Z",
     "iopub.status.idle": "2022-07-04T02:39:56.471915Z",
     "shell.execute_reply": "2022-07-04T02:39:56.471067Z"
    },
    "id": "VALRp2K-LUBn",
    "papermill": {
     "duration": 0.019218,
     "end_time": "2022-07-04T02:39:56.474002",
     "exception": false,
     "start_time": "2022-07-04T02:39:56.454784",
     "status": "completed"
    },
    "tags": []
   },
   "outputs": [],
   "source": [
    "train_x = train.drop(['count'],axis = 1)\n",
    "train_y = train['count']"
   ]
  },
  {
   "cell_type": "code",
   "execution_count": 13,
   "id": "0492658c",
   "metadata": {
    "execution": {
     "iopub.execute_input": "2022-07-04T02:39:56.491914Z",
     "iopub.status.busy": "2022-07-04T02:39:56.491209Z",
     "iopub.status.idle": "2022-07-04T02:39:57.267275Z",
     "shell.execute_reply": "2022-07-04T02:39:57.266078Z"
    },
    "id": "WZ5MuARhLPX7",
    "outputId": "5d0f5f9b-f558-412f-a3c0-f2e0ce3ce3c9",
    "papermill": {
     "duration": 0.788183,
     "end_time": "2022-07-04T02:39:57.269661",
     "exception": false,
     "start_time": "2022-07-04T02:39:56.481478",
     "status": "completed"
    },
    "tags": []
   },
   "outputs": [
    {
     "data": {
      "text/plain": [
       "RandomForestRegressor()"
      ]
     },
     "execution_count": 13,
     "metadata": {},
     "output_type": "execute_result"
    }
   ],
   "source": [
    "model=RandomForestRegressor(n_estimators=100)\n",
    "model.fit(train_x,train_y)"
   ]
  },
  {
   "cell_type": "markdown",
   "id": "475ea7bd",
   "metadata": {
    "id": "jN5oDFfCL7fc",
    "papermill": {
     "duration": 0.007562,
     "end_time": "2022-07-04T02:39:57.285118",
     "exception": false,
     "start_time": "2022-07-04T02:39:57.277556",
     "status": "completed"
    },
    "tags": []
   },
   "source": [
    "## 학습 된 모델로 예측 데이터 생성"
   ]
  },
  {
   "cell_type": "code",
   "execution_count": 14,
   "id": "ded24166",
   "metadata": {
    "execution": {
     "iopub.execute_input": "2022-07-04T02:39:57.302369Z",
     "iopub.status.busy": "2022-07-04T02:39:57.301957Z",
     "iopub.status.idle": "2022-07-04T02:39:57.330703Z",
     "shell.execute_reply": "2022-07-04T02:39:57.329615Z"
    },
    "id": "ITPZ9W3fLkPf",
    "papermill": {
     "duration": 0.040818,
     "end_time": "2022-07-04T02:39:57.333626",
     "exception": false,
     "start_time": "2022-07-04T02:39:57.292808",
     "status": "completed"
    },
    "tags": []
   },
   "outputs": [],
   "source": [
    "pred = model.predict(test)"
   ]
  },
  {
   "cell_type": "markdown",
   "id": "eb7c52aa",
   "metadata": {
    "id": "8cmQhhzjL-MD",
    "papermill": {
     "duration": 0.007225,
     "end_time": "2022-07-04T02:39:57.348766",
     "exception": false,
     "start_time": "2022-07-04T02:39:57.341541",
     "status": "completed"
    },
    "tags": []
   },
   "source": [
    "## 제출파일 생성"
   ]
  },
  {
   "cell_type": "code",
   "execution_count": 15,
   "id": "baddc24a",
   "metadata": {
    "execution": {
     "iopub.execute_input": "2022-07-04T02:39:57.366140Z",
     "iopub.status.busy": "2022-07-04T02:39:57.365081Z",
     "iopub.status.idle": "2022-07-04T02:39:57.369693Z",
     "shell.execute_reply": "2022-07-04T02:39:57.368943Z"
    },
    "id": "HC_74SxhLozW",
    "outputId": "4059a217-b6dd-4783-aee3-46acda2e8d63",
    "papermill": {
     "duration": 0.015631,
     "end_time": "2022-07-04T02:39:57.371815",
     "exception": false,
     "start_time": "2022-07-04T02:39:57.356184",
     "status": "completed"
    },
    "tags": []
   },
   "outputs": [],
   "source": [
    "# submission = pd.read_csv('/content/data/submission.csv')\n",
    "# submission"
   ]
  },
  {
   "cell_type": "code",
   "execution_count": 16,
   "id": "15b244ad",
   "metadata": {
    "execution": {
     "iopub.execute_input": "2022-07-04T02:39:57.388602Z",
     "iopub.status.busy": "2022-07-04T02:39:57.388231Z",
     "iopub.status.idle": "2022-07-04T02:39:57.392473Z",
     "shell.execute_reply": "2022-07-04T02:39:57.391443Z"
    },
    "id": "erbo9F9dLuzX",
    "papermill": {
     "duration": 0.015422,
     "end_time": "2022-07-04T02:39:57.394701",
     "exception": false,
     "start_time": "2022-07-04T02:39:57.379279",
     "status": "completed"
    },
    "tags": []
   },
   "outputs": [],
   "source": [
    "# submission['count'] = pred"
   ]
  },
  {
   "cell_type": "code",
   "execution_count": 17,
   "id": "54af8d57",
   "metadata": {
    "execution": {
     "iopub.execute_input": "2022-07-04T02:39:57.411627Z",
     "iopub.status.busy": "2022-07-04T02:39:57.411243Z",
     "iopub.status.idle": "2022-07-04T02:39:57.415565Z",
     "shell.execute_reply": "2022-07-04T02:39:57.414455Z"
    },
    "id": "Fz5ZjLPgMZ9Z",
    "outputId": "a44bc783-6708-448d-d1ea-b03904dcaf09",
    "papermill": {
     "duration": 0.015563,
     "end_time": "2022-07-04T02:39:57.417821",
     "exception": false,
     "start_time": "2022-07-04T02:39:57.402258",
     "status": "completed"
    },
    "tags": []
   },
   "outputs": [],
   "source": [
    "# submission"
   ]
  },
  {
   "cell_type": "code",
   "execution_count": 18,
   "id": "619240cb",
   "metadata": {
    "execution": {
     "iopub.execute_input": "2022-07-04T02:39:57.436015Z",
     "iopub.status.busy": "2022-07-04T02:39:57.435226Z",
     "iopub.status.idle": "2022-07-04T02:39:57.440074Z",
     "shell.execute_reply": "2022-07-04T02:39:57.439313Z"
    },
    "id": "Ggp9jIZ7Lyf6",
    "papermill": {
     "duration": 0.016634,
     "end_time": "2022-07-04T02:39:57.442273",
     "exception": false,
     "start_time": "2022-07-04T02:39:57.425639",
     "status": "completed"
    },
    "tags": []
   },
   "outputs": [],
   "source": [
    "# submission.to_csv('베이스라인.csv',index = False)"
   ]
  }
 ],
 "metadata": {
  "kernelspec": {
   "display_name": "Python 3",
   "language": "python",
   "name": "python3"
  },
  "language_info": {
   "codemirror_mode": {
    "name": "ipython",
    "version": 3
   },
   "file_extension": ".py",
   "mimetype": "text/x-python",
   "name": "python",
   "nbconvert_exporter": "python",
   "pygments_lexer": "ipython3",
   "version": "3.7.12"
  },
  "papermill": {
   "default_parameters": {},
   "duration": 13.723176,
   "end_time": "2022-07-04T02:39:58.272085",
   "environment_variables": {},
   "exception": null,
   "input_path": "__notebook__.ipynb",
   "output_path": "__notebook__.ipynb",
   "parameters": {},
   "start_time": "2022-07-04T02:39:44.548909",
   "version": "2.3.4"
  }
 },
 "nbformat": 4,
 "nbformat_minor": 5
}
