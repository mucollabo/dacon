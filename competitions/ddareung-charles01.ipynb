{
 "cells": [
  {
   "cell_type": "markdown",
   "id": "13784ebf",
   "metadata": {
    "papermill": {
     "duration": 0.009206,
     "end_time": "2022-07-05T10:17:50.757195",
     "exception": false,
     "start_time": "2022-07-05T10:17:50.747989",
     "status": "completed"
    },
    "tags": []
   },
   "source": [
    "## loading the system"
   ]
  },
  {
   "cell_type": "code",
   "execution_count": 1,
   "id": "2e2f59e2",
   "metadata": {
    "execution": {
     "iopub.execute_input": "2022-07-05T10:17:50.775648Z",
     "iopub.status.busy": "2022-07-05T10:17:50.774863Z",
     "iopub.status.idle": "2022-07-05T10:17:50.797704Z",
     "shell.execute_reply": "2022-07-05T10:17:50.796383Z"
    },
    "papermill": {
     "duration": 0.035625,
     "end_time": "2022-07-05T10:17:50.800926",
     "exception": false,
     "start_time": "2022-07-05T10:17:50.765301",
     "status": "completed"
    },
    "tags": []
   },
   "outputs": [
    {
     "name": "stdout",
     "output_type": "stream",
     "text": [
      "/kaggle/input/ddareung/submission.csv\n",
      "/kaggle/input/ddareung/train.csv\n",
      "/kaggle/input/ddareung/test.csv\n"
     ]
    }
   ],
   "source": [
    "import os\n",
    "for dirname, _, filenames in os.walk('/kaggle/input'):\n",
    "    for filename in filenames:\n",
    "        print(os.path.join(dirname, filename))"
   ]
  },
  {
   "cell_type": "markdown",
   "id": "b166386c",
   "metadata": {
    "id": "vPJ9jVBtNLHm",
    "papermill": {
     "duration": 0.007924,
     "end_time": "2022-07-05T10:17:50.817661",
     "exception": false,
     "start_time": "2022-07-05T10:17:50.809737",
     "status": "completed"
    },
    "tags": []
   },
   "source": [
    "## loading the library"
   ]
  },
  {
   "cell_type": "code",
   "execution_count": 2,
   "id": "21582437",
   "metadata": {
    "execution": {
     "iopub.execute_input": "2022-07-05T10:17:50.835027Z",
     "iopub.status.busy": "2022-07-05T10:17:50.834664Z",
     "iopub.status.idle": "2022-07-05T10:17:52.219608Z",
     "shell.execute_reply": "2022-07-05T10:17:52.218417Z"
    },
    "id": "v-zC2rkdKDcI",
    "papermill": {
     "duration": 1.396815,
     "end_time": "2022-07-05T10:17:52.222391",
     "exception": false,
     "start_time": "2022-07-05T10:17:50.825576",
     "status": "completed"
    },
    "tags": []
   },
   "outputs": [],
   "source": [
    "import numpy as np\n",
    "import pandas as pd\n",
    "from sklearn.ensemble import RandomForestRegressor\n",
    "from sklearn.metrics import mean_absolute_error\n",
    "import matplotlib.pyplot as plt\n",
    "import seaborn as sns\n",
    "%matplotlib inline"
   ]
  },
  {
   "cell_type": "markdown",
   "id": "aa0f6f60",
   "metadata": {
    "id": "v8i_07N4LCku",
    "papermill": {
     "duration": 0.008252,
     "end_time": "2022-07-05T10:17:52.239079",
     "exception": false,
     "start_time": "2022-07-05T10:17:52.230827",
     "status": "completed"
    },
    "tags": []
   },
   "source": [
    "## loading and validation the data"
   ]
  },
  {
   "cell_type": "code",
   "execution_count": 3,
   "id": "6c6646aa",
   "metadata": {
    "execution": {
     "iopub.execute_input": "2022-07-05T10:17:52.257555Z",
     "iopub.status.busy": "2022-07-05T10:17:52.257155Z",
     "iopub.status.idle": "2022-07-05T10:17:52.281525Z",
     "shell.execute_reply": "2022-07-05T10:17:52.280507Z"
    },
    "id": "to0uUNr6KHoq",
    "papermill": {
     "duration": 0.036684,
     "end_time": "2022-07-05T10:17:52.284056",
     "exception": false,
     "start_time": "2022-07-05T10:17:52.247372",
     "status": "completed"
    },
    "tags": []
   },
   "outputs": [],
   "source": [
    "train = pd.read_csv('../input/ddareung/train.csv') \n",
    "test = pd.read_csv('../input/ddareung/test.csv')"
   ]
  },
  {
   "cell_type": "code",
   "execution_count": 4,
   "id": "d630ad41",
   "metadata": {
    "execution": {
     "iopub.execute_input": "2022-07-05T10:17:52.302892Z",
     "iopub.status.busy": "2022-07-05T10:17:52.301787Z",
     "iopub.status.idle": "2022-07-05T10:17:52.326639Z",
     "shell.execute_reply": "2022-07-05T10:17:52.325762Z"
    },
    "id": "f_vUhom0LGUv",
    "outputId": "4a79757a-8728-4eb9-b856-c338c92f9cdb",
    "papermill": {
     "duration": 0.036852,
     "end_time": "2022-07-05T10:17:52.329413",
     "exception": false,
     "start_time": "2022-07-05T10:17:52.292561",
     "status": "completed"
    },
    "tags": []
   },
   "outputs": [
    {
     "name": "stdout",
     "output_type": "stream",
     "text": [
      "<class 'pandas.core.frame.DataFrame'>\n",
      "RangeIndex: 1459 entries, 0 to 1458\n",
      "Data columns (total 11 columns):\n",
      " #   Column                  Non-Null Count  Dtype  \n",
      "---  ------                  --------------  -----  \n",
      " 0   id                      1459 non-null   int64  \n",
      " 1   hour                    1459 non-null   int64  \n",
      " 2   hour_bef_temperature    1457 non-null   float64\n",
      " 3   hour_bef_precipitation  1457 non-null   float64\n",
      " 4   hour_bef_windspeed      1450 non-null   float64\n",
      " 5   hour_bef_humidity       1457 non-null   float64\n",
      " 6   hour_bef_visibility     1457 non-null   float64\n",
      " 7   hour_bef_ozone          1383 non-null   float64\n",
      " 8   hour_bef_pm10           1369 non-null   float64\n",
      " 9   hour_bef_pm2.5          1342 non-null   float64\n",
      " 10  count                   1459 non-null   float64\n",
      "dtypes: float64(9), int64(2)\n",
      "memory usage: 125.5 KB\n"
     ]
    }
   ],
   "source": [
    "train.info()"
   ]
  },
  {
   "cell_type": "code",
   "execution_count": 5,
   "id": "edc7bd50",
   "metadata": {
    "execution": {
     "iopub.execute_input": "2022-07-05T10:17:52.349038Z",
     "iopub.status.busy": "2022-07-05T10:17:52.348425Z",
     "iopub.status.idle": "2022-07-05T10:17:52.360293Z",
     "shell.execute_reply": "2022-07-05T10:17:52.358832Z"
    },
    "papermill": {
     "duration": 0.023803,
     "end_time": "2022-07-05T10:17:52.362587",
     "exception": false,
     "start_time": "2022-07-05T10:17:52.338784",
     "status": "completed"
    },
    "tags": []
   },
   "outputs": [
    {
     "name": "stdout",
     "output_type": "stream",
     "text": [
      "<class 'pandas.core.frame.DataFrame'>\n",
      "RangeIndex: 715 entries, 0 to 714\n",
      "Data columns (total 10 columns):\n",
      " #   Column                  Non-Null Count  Dtype  \n",
      "---  ------                  --------------  -----  \n",
      " 0   id                      715 non-null    int64  \n",
      " 1   hour                    715 non-null    int64  \n",
      " 2   hour_bef_temperature    714 non-null    float64\n",
      " 3   hour_bef_precipitation  714 non-null    float64\n",
      " 4   hour_bef_windspeed      714 non-null    float64\n",
      " 5   hour_bef_humidity       714 non-null    float64\n",
      " 6   hour_bef_visibility     714 non-null    float64\n",
      " 7   hour_bef_ozone          680 non-null    float64\n",
      " 8   hour_bef_pm10           678 non-null    float64\n",
      " 9   hour_bef_pm2.5          679 non-null    float64\n",
      "dtypes: float64(8), int64(2)\n",
      "memory usage: 56.0 KB\n"
     ]
    }
   ],
   "source": [
    "test.info()"
   ]
  },
  {
   "cell_type": "code",
   "execution_count": 6,
   "id": "e6bc9868",
   "metadata": {
    "execution": {
     "iopub.execute_input": "2022-07-05T10:17:52.381665Z",
     "iopub.status.busy": "2022-07-05T10:17:52.381016Z",
     "iopub.status.idle": "2022-07-05T10:17:52.405684Z",
     "shell.execute_reply": "2022-07-05T10:17:52.404594Z"
    },
    "id": "__07tYh_KIZ9",
    "outputId": "ad9c8c05-f599-469b-ffa2-daa343fa061e",
    "papermill": {
     "duration": 0.036798,
     "end_time": "2022-07-05T10:17:52.407970",
     "exception": false,
     "start_time": "2022-07-05T10:17:52.371172",
     "status": "completed"
    },
    "tags": []
   },
   "outputs": [
    {
     "data": {
      "text/html": [
       "<div>\n",
       "<style scoped>\n",
       "    .dataframe tbody tr th:only-of-type {\n",
       "        vertical-align: middle;\n",
       "    }\n",
       "\n",
       "    .dataframe tbody tr th {\n",
       "        vertical-align: top;\n",
       "    }\n",
       "\n",
       "    .dataframe thead th {\n",
       "        text-align: right;\n",
       "    }\n",
       "</style>\n",
       "<table border=\"1\" class=\"dataframe\">\n",
       "  <thead>\n",
       "    <tr style=\"text-align: right;\">\n",
       "      <th></th>\n",
       "      <th>id</th>\n",
       "      <th>hour</th>\n",
       "      <th>hour_bef_temperature</th>\n",
       "      <th>hour_bef_precipitation</th>\n",
       "      <th>hour_bef_windspeed</th>\n",
       "      <th>hour_bef_humidity</th>\n",
       "      <th>hour_bef_visibility</th>\n",
       "      <th>hour_bef_ozone</th>\n",
       "      <th>hour_bef_pm10</th>\n",
       "      <th>hour_bef_pm2.5</th>\n",
       "      <th>count</th>\n",
       "    </tr>\n",
       "  </thead>\n",
       "  <tbody>\n",
       "    <tr>\n",
       "      <th>0</th>\n",
       "      <td>3</td>\n",
       "      <td>20</td>\n",
       "      <td>16.3</td>\n",
       "      <td>1.0</td>\n",
       "      <td>1.5</td>\n",
       "      <td>89.0</td>\n",
       "      <td>576.0</td>\n",
       "      <td>0.027</td>\n",
       "      <td>76.0</td>\n",
       "      <td>33.0</td>\n",
       "      <td>49.0</td>\n",
       "    </tr>\n",
       "    <tr>\n",
       "      <th>1</th>\n",
       "      <td>6</td>\n",
       "      <td>13</td>\n",
       "      <td>20.1</td>\n",
       "      <td>0.0</td>\n",
       "      <td>1.4</td>\n",
       "      <td>48.0</td>\n",
       "      <td>916.0</td>\n",
       "      <td>0.042</td>\n",
       "      <td>73.0</td>\n",
       "      <td>40.0</td>\n",
       "      <td>159.0</td>\n",
       "    </tr>\n",
       "    <tr>\n",
       "      <th>2</th>\n",
       "      <td>7</td>\n",
       "      <td>6</td>\n",
       "      <td>13.9</td>\n",
       "      <td>0.0</td>\n",
       "      <td>0.7</td>\n",
       "      <td>79.0</td>\n",
       "      <td>1382.0</td>\n",
       "      <td>0.033</td>\n",
       "      <td>32.0</td>\n",
       "      <td>19.0</td>\n",
       "      <td>26.0</td>\n",
       "    </tr>\n",
       "    <tr>\n",
       "      <th>3</th>\n",
       "      <td>8</td>\n",
       "      <td>23</td>\n",
       "      <td>8.1</td>\n",
       "      <td>0.0</td>\n",
       "      <td>2.7</td>\n",
       "      <td>54.0</td>\n",
       "      <td>946.0</td>\n",
       "      <td>0.040</td>\n",
       "      <td>75.0</td>\n",
       "      <td>64.0</td>\n",
       "      <td>57.0</td>\n",
       "    </tr>\n",
       "    <tr>\n",
       "      <th>4</th>\n",
       "      <td>9</td>\n",
       "      <td>18</td>\n",
       "      <td>29.5</td>\n",
       "      <td>0.0</td>\n",
       "      <td>4.8</td>\n",
       "      <td>7.0</td>\n",
       "      <td>2000.0</td>\n",
       "      <td>0.057</td>\n",
       "      <td>27.0</td>\n",
       "      <td>11.0</td>\n",
       "      <td>431.0</td>\n",
       "    </tr>\n",
       "  </tbody>\n",
       "</table>\n",
       "</div>"
      ],
      "text/plain": [
       "   id  hour  hour_bef_temperature  hour_bef_precipitation  hour_bef_windspeed  \\\n",
       "0   3    20                  16.3                     1.0                 1.5   \n",
       "1   6    13                  20.1                     0.0                 1.4   \n",
       "2   7     6                  13.9                     0.0                 0.7   \n",
       "3   8    23                   8.1                     0.0                 2.7   \n",
       "4   9    18                  29.5                     0.0                 4.8   \n",
       "\n",
       "   hour_bef_humidity  hour_bef_visibility  hour_bef_ozone  hour_bef_pm10  \\\n",
       "0               89.0                576.0           0.027           76.0   \n",
       "1               48.0                916.0           0.042           73.0   \n",
       "2               79.0               1382.0           0.033           32.0   \n",
       "3               54.0                946.0           0.040           75.0   \n",
       "4                7.0               2000.0           0.057           27.0   \n",
       "\n",
       "   hour_bef_pm2.5  count  \n",
       "0            33.0   49.0  \n",
       "1            40.0  159.0  \n",
       "2            19.0   26.0  \n",
       "3            64.0   57.0  \n",
       "4            11.0  431.0  "
      ]
     },
     "execution_count": 6,
     "metadata": {},
     "output_type": "execute_result"
    }
   ],
   "source": [
    "train.head()"
   ]
  },
  {
   "cell_type": "code",
   "execution_count": 7,
   "id": "5e6b463c",
   "metadata": {
    "execution": {
     "iopub.execute_input": "2022-07-05T10:17:52.428475Z",
     "iopub.status.busy": "2022-07-05T10:17:52.428050Z",
     "iopub.status.idle": "2022-07-05T10:17:52.447224Z",
     "shell.execute_reply": "2022-07-05T10:17:52.446142Z"
    },
    "id": "pVxYli5iKLuf",
    "outputId": "9fd28f2b-9c35-46ff-bbd9-7fe251000784",
    "papermill": {
     "duration": 0.031725,
     "end_time": "2022-07-05T10:17:52.449505",
     "exception": false,
     "start_time": "2022-07-05T10:17:52.417780",
     "status": "completed"
    },
    "tags": []
   },
   "outputs": [
    {
     "data": {
      "text/html": [
       "<div>\n",
       "<style scoped>\n",
       "    .dataframe tbody tr th:only-of-type {\n",
       "        vertical-align: middle;\n",
       "    }\n",
       "\n",
       "    .dataframe tbody tr th {\n",
       "        vertical-align: top;\n",
       "    }\n",
       "\n",
       "    .dataframe thead th {\n",
       "        text-align: right;\n",
       "    }\n",
       "</style>\n",
       "<table border=\"1\" class=\"dataframe\">\n",
       "  <thead>\n",
       "    <tr style=\"text-align: right;\">\n",
       "      <th></th>\n",
       "      <th>id</th>\n",
       "      <th>hour</th>\n",
       "      <th>hour_bef_temperature</th>\n",
       "      <th>hour_bef_precipitation</th>\n",
       "      <th>hour_bef_windspeed</th>\n",
       "      <th>hour_bef_humidity</th>\n",
       "      <th>hour_bef_visibility</th>\n",
       "      <th>hour_bef_ozone</th>\n",
       "      <th>hour_bef_pm10</th>\n",
       "      <th>hour_bef_pm2.5</th>\n",
       "    </tr>\n",
       "  </thead>\n",
       "  <tbody>\n",
       "    <tr>\n",
       "      <th>0</th>\n",
       "      <td>0</td>\n",
       "      <td>7</td>\n",
       "      <td>20.7</td>\n",
       "      <td>0.0</td>\n",
       "      <td>1.3</td>\n",
       "      <td>62.0</td>\n",
       "      <td>954.0</td>\n",
       "      <td>0.041</td>\n",
       "      <td>44.0</td>\n",
       "      <td>27.0</td>\n",
       "    </tr>\n",
       "    <tr>\n",
       "      <th>1</th>\n",
       "      <td>1</td>\n",
       "      <td>17</td>\n",
       "      <td>30.0</td>\n",
       "      <td>0.0</td>\n",
       "      <td>5.4</td>\n",
       "      <td>33.0</td>\n",
       "      <td>1590.0</td>\n",
       "      <td>0.061</td>\n",
       "      <td>49.0</td>\n",
       "      <td>36.0</td>\n",
       "    </tr>\n",
       "    <tr>\n",
       "      <th>2</th>\n",
       "      <td>2</td>\n",
       "      <td>13</td>\n",
       "      <td>19.0</td>\n",
       "      <td>1.0</td>\n",
       "      <td>2.1</td>\n",
       "      <td>95.0</td>\n",
       "      <td>193.0</td>\n",
       "      <td>0.020</td>\n",
       "      <td>36.0</td>\n",
       "      <td>28.0</td>\n",
       "    </tr>\n",
       "    <tr>\n",
       "      <th>3</th>\n",
       "      <td>4</td>\n",
       "      <td>6</td>\n",
       "      <td>22.5</td>\n",
       "      <td>0.0</td>\n",
       "      <td>2.5</td>\n",
       "      <td>60.0</td>\n",
       "      <td>1185.0</td>\n",
       "      <td>0.027</td>\n",
       "      <td>52.0</td>\n",
       "      <td>38.0</td>\n",
       "    </tr>\n",
       "    <tr>\n",
       "      <th>4</th>\n",
       "      <td>5</td>\n",
       "      <td>22</td>\n",
       "      <td>14.6</td>\n",
       "      <td>1.0</td>\n",
       "      <td>3.4</td>\n",
       "      <td>93.0</td>\n",
       "      <td>218.0</td>\n",
       "      <td>0.041</td>\n",
       "      <td>18.0</td>\n",
       "      <td>15.0</td>\n",
       "    </tr>\n",
       "  </tbody>\n",
       "</table>\n",
       "</div>"
      ],
      "text/plain": [
       "   id  hour  hour_bef_temperature  hour_bef_precipitation  hour_bef_windspeed  \\\n",
       "0   0     7                  20.7                     0.0                 1.3   \n",
       "1   1    17                  30.0                     0.0                 5.4   \n",
       "2   2    13                  19.0                     1.0                 2.1   \n",
       "3   4     6                  22.5                     0.0                 2.5   \n",
       "4   5    22                  14.6                     1.0                 3.4   \n",
       "\n",
       "   hour_bef_humidity  hour_bef_visibility  hour_bef_ozone  hour_bef_pm10  \\\n",
       "0               62.0                954.0           0.041           44.0   \n",
       "1               33.0               1590.0           0.061           49.0   \n",
       "2               95.0                193.0           0.020           36.0   \n",
       "3               60.0               1185.0           0.027           52.0   \n",
       "4               93.0                218.0           0.041           18.0   \n",
       "\n",
       "   hour_bef_pm2.5  \n",
       "0            27.0  \n",
       "1            36.0  \n",
       "2            28.0  \n",
       "3            38.0  \n",
       "4            15.0  "
      ]
     },
     "execution_count": 7,
     "metadata": {},
     "output_type": "execute_result"
    }
   ],
   "source": [
    "test.head()"
   ]
  },
  {
   "cell_type": "code",
   "execution_count": 8,
   "id": "802ad2c9",
   "metadata": {
    "execution": {
     "iopub.execute_input": "2022-07-05T10:17:52.469483Z",
     "iopub.status.busy": "2022-07-05T10:17:52.469104Z",
     "iopub.status.idle": "2022-07-05T10:17:52.514281Z",
     "shell.execute_reply": "2022-07-05T10:17:52.513118Z"
    },
    "papermill": {
     "duration": 0.058054,
     "end_time": "2022-07-05T10:17:52.516636",
     "exception": false,
     "start_time": "2022-07-05T10:17:52.458582",
     "status": "completed"
    },
    "tags": []
   },
   "outputs": [
    {
     "data": {
      "text/html": [
       "<div>\n",
       "<style scoped>\n",
       "    .dataframe tbody tr th:only-of-type {\n",
       "        vertical-align: middle;\n",
       "    }\n",
       "\n",
       "    .dataframe tbody tr th {\n",
       "        vertical-align: top;\n",
       "    }\n",
       "\n",
       "    .dataframe thead th {\n",
       "        text-align: right;\n",
       "    }\n",
       "</style>\n",
       "<table border=\"1\" class=\"dataframe\">\n",
       "  <thead>\n",
       "    <tr style=\"text-align: right;\">\n",
       "      <th></th>\n",
       "      <th>id</th>\n",
       "      <th>hour</th>\n",
       "      <th>hour_bef_temperature</th>\n",
       "      <th>hour_bef_precipitation</th>\n",
       "      <th>hour_bef_windspeed</th>\n",
       "      <th>hour_bef_humidity</th>\n",
       "      <th>hour_bef_visibility</th>\n",
       "      <th>hour_bef_ozone</th>\n",
       "      <th>hour_bef_pm10</th>\n",
       "      <th>hour_bef_pm2.5</th>\n",
       "      <th>count</th>\n",
       "    </tr>\n",
       "  </thead>\n",
       "  <tbody>\n",
       "    <tr>\n",
       "      <th>count</th>\n",
       "      <td>1459.000000</td>\n",
       "      <td>1459.000000</td>\n",
       "      <td>1457.000000</td>\n",
       "      <td>1457.000000</td>\n",
       "      <td>1450.000000</td>\n",
       "      <td>1457.000000</td>\n",
       "      <td>1457.000000</td>\n",
       "      <td>1383.000000</td>\n",
       "      <td>1369.000000</td>\n",
       "      <td>1342.000000</td>\n",
       "      <td>1459.000000</td>\n",
       "    </tr>\n",
       "    <tr>\n",
       "      <th>mean</th>\n",
       "      <td>1105.914325</td>\n",
       "      <td>11.493489</td>\n",
       "      <td>16.717433</td>\n",
       "      <td>0.031572</td>\n",
       "      <td>2.479034</td>\n",
       "      <td>52.231297</td>\n",
       "      <td>1405.216884</td>\n",
       "      <td>0.039149</td>\n",
       "      <td>57.168736</td>\n",
       "      <td>30.327124</td>\n",
       "      <td>108.563400</td>\n",
       "    </tr>\n",
       "    <tr>\n",
       "      <th>std</th>\n",
       "      <td>631.338681</td>\n",
       "      <td>6.922790</td>\n",
       "      <td>5.239150</td>\n",
       "      <td>0.174917</td>\n",
       "      <td>1.378265</td>\n",
       "      <td>20.370387</td>\n",
       "      <td>583.131708</td>\n",
       "      <td>0.019509</td>\n",
       "      <td>31.771019</td>\n",
       "      <td>14.713252</td>\n",
       "      <td>82.631733</td>\n",
       "    </tr>\n",
       "    <tr>\n",
       "      <th>min</th>\n",
       "      <td>3.000000</td>\n",
       "      <td>0.000000</td>\n",
       "      <td>3.100000</td>\n",
       "      <td>0.000000</td>\n",
       "      <td>0.000000</td>\n",
       "      <td>7.000000</td>\n",
       "      <td>78.000000</td>\n",
       "      <td>0.003000</td>\n",
       "      <td>9.000000</td>\n",
       "      <td>8.000000</td>\n",
       "      <td>1.000000</td>\n",
       "    </tr>\n",
       "    <tr>\n",
       "      <th>25%</th>\n",
       "      <td>555.500000</td>\n",
       "      <td>5.500000</td>\n",
       "      <td>12.800000</td>\n",
       "      <td>0.000000</td>\n",
       "      <td>1.400000</td>\n",
       "      <td>36.000000</td>\n",
       "      <td>879.000000</td>\n",
       "      <td>0.025500</td>\n",
       "      <td>36.000000</td>\n",
       "      <td>20.000000</td>\n",
       "      <td>37.000000</td>\n",
       "    </tr>\n",
       "    <tr>\n",
       "      <th>50%</th>\n",
       "      <td>1115.000000</td>\n",
       "      <td>11.000000</td>\n",
       "      <td>16.600000</td>\n",
       "      <td>0.000000</td>\n",
       "      <td>2.300000</td>\n",
       "      <td>51.000000</td>\n",
       "      <td>1577.000000</td>\n",
       "      <td>0.039000</td>\n",
       "      <td>51.000000</td>\n",
       "      <td>26.000000</td>\n",
       "      <td>96.000000</td>\n",
       "    </tr>\n",
       "    <tr>\n",
       "      <th>75%</th>\n",
       "      <td>1651.000000</td>\n",
       "      <td>17.500000</td>\n",
       "      <td>20.100000</td>\n",
       "      <td>0.000000</td>\n",
       "      <td>3.400000</td>\n",
       "      <td>69.000000</td>\n",
       "      <td>1994.000000</td>\n",
       "      <td>0.052000</td>\n",
       "      <td>69.000000</td>\n",
       "      <td>37.000000</td>\n",
       "      <td>150.000000</td>\n",
       "    </tr>\n",
       "    <tr>\n",
       "      <th>max</th>\n",
       "      <td>2179.000000</td>\n",
       "      <td>23.000000</td>\n",
       "      <td>30.000000</td>\n",
       "      <td>1.000000</td>\n",
       "      <td>8.000000</td>\n",
       "      <td>99.000000</td>\n",
       "      <td>2000.000000</td>\n",
       "      <td>0.125000</td>\n",
       "      <td>269.000000</td>\n",
       "      <td>90.000000</td>\n",
       "      <td>431.000000</td>\n",
       "    </tr>\n",
       "  </tbody>\n",
       "</table>\n",
       "</div>"
      ],
      "text/plain": [
       "                id         hour  hour_bef_temperature  hour_bef_precipitation  \\\n",
       "count  1459.000000  1459.000000           1457.000000             1457.000000   \n",
       "mean   1105.914325    11.493489             16.717433                0.031572   \n",
       "std     631.338681     6.922790              5.239150                0.174917   \n",
       "min       3.000000     0.000000              3.100000                0.000000   \n",
       "25%     555.500000     5.500000             12.800000                0.000000   \n",
       "50%    1115.000000    11.000000             16.600000                0.000000   \n",
       "75%    1651.000000    17.500000             20.100000                0.000000   \n",
       "max    2179.000000    23.000000             30.000000                1.000000   \n",
       "\n",
       "       hour_bef_windspeed  hour_bef_humidity  hour_bef_visibility  \\\n",
       "count         1450.000000        1457.000000          1457.000000   \n",
       "mean             2.479034          52.231297          1405.216884   \n",
       "std              1.378265          20.370387           583.131708   \n",
       "min              0.000000           7.000000            78.000000   \n",
       "25%              1.400000          36.000000           879.000000   \n",
       "50%              2.300000          51.000000          1577.000000   \n",
       "75%              3.400000          69.000000          1994.000000   \n",
       "max              8.000000          99.000000          2000.000000   \n",
       "\n",
       "       hour_bef_ozone  hour_bef_pm10  hour_bef_pm2.5        count  \n",
       "count     1383.000000    1369.000000     1342.000000  1459.000000  \n",
       "mean         0.039149      57.168736       30.327124   108.563400  \n",
       "std          0.019509      31.771019       14.713252    82.631733  \n",
       "min          0.003000       9.000000        8.000000     1.000000  \n",
       "25%          0.025500      36.000000       20.000000    37.000000  \n",
       "50%          0.039000      51.000000       26.000000    96.000000  \n",
       "75%          0.052000      69.000000       37.000000   150.000000  \n",
       "max          0.125000     269.000000       90.000000   431.000000  "
      ]
     },
     "execution_count": 8,
     "metadata": {},
     "output_type": "execute_result"
    }
   ],
   "source": [
    "train.describe()"
   ]
  },
  {
   "cell_type": "code",
   "execution_count": 9,
   "id": "e296ad74",
   "metadata": {
    "execution": {
     "iopub.execute_input": "2022-07-05T10:17:52.537793Z",
     "iopub.status.busy": "2022-07-05T10:17:52.537453Z",
     "iopub.status.idle": "2022-07-05T10:17:52.576095Z",
     "shell.execute_reply": "2022-07-05T10:17:52.574990Z"
    },
    "papermill": {
     "duration": 0.051716,
     "end_time": "2022-07-05T10:17:52.578421",
     "exception": false,
     "start_time": "2022-07-05T10:17:52.526705",
     "status": "completed"
    },
    "tags": []
   },
   "outputs": [
    {
     "data": {
      "text/html": [
       "<div>\n",
       "<style scoped>\n",
       "    .dataframe tbody tr th:only-of-type {\n",
       "        vertical-align: middle;\n",
       "    }\n",
       "\n",
       "    .dataframe tbody tr th {\n",
       "        vertical-align: top;\n",
       "    }\n",
       "\n",
       "    .dataframe thead th {\n",
       "        text-align: right;\n",
       "    }\n",
       "</style>\n",
       "<table border=\"1\" class=\"dataframe\">\n",
       "  <thead>\n",
       "    <tr style=\"text-align: right;\">\n",
       "      <th></th>\n",
       "      <th>id</th>\n",
       "      <th>hour</th>\n",
       "      <th>hour_bef_temperature</th>\n",
       "      <th>hour_bef_precipitation</th>\n",
       "      <th>hour_bef_windspeed</th>\n",
       "      <th>hour_bef_humidity</th>\n",
       "      <th>hour_bef_visibility</th>\n",
       "      <th>hour_bef_ozone</th>\n",
       "      <th>hour_bef_pm10</th>\n",
       "      <th>hour_bef_pm2.5</th>\n",
       "    </tr>\n",
       "  </thead>\n",
       "  <tbody>\n",
       "    <tr>\n",
       "      <th>count</th>\n",
       "      <td>715.000000</td>\n",
       "      <td>715.000000</td>\n",
       "      <td>714.000000</td>\n",
       "      <td>714.000000</td>\n",
       "      <td>714.000000</td>\n",
       "      <td>714.000000</td>\n",
       "      <td>714.000000</td>\n",
       "      <td>680.000000</td>\n",
       "      <td>678.000000</td>\n",
       "      <td>679.000000</td>\n",
       "    </tr>\n",
       "    <tr>\n",
       "      <th>mean</th>\n",
       "      <td>1056.854545</td>\n",
       "      <td>11.472727</td>\n",
       "      <td>23.263305</td>\n",
       "      <td>0.051821</td>\n",
       "      <td>2.388515</td>\n",
       "      <td>56.668067</td>\n",
       "      <td>1359.494398</td>\n",
       "      <td>0.041196</td>\n",
       "      <td>36.930678</td>\n",
       "      <td>24.939617</td>\n",
       "    </tr>\n",
       "    <tr>\n",
       "      <th>std</th>\n",
       "      <td>625.574471</td>\n",
       "      <td>6.928427</td>\n",
       "      <td>4.039645</td>\n",
       "      <td>0.221820</td>\n",
       "      <td>1.171270</td>\n",
       "      <td>19.661880</td>\n",
       "      <td>614.171870</td>\n",
       "      <td>0.020656</td>\n",
       "      <td>12.641503</td>\n",
       "      <td>10.075857</td>\n",
       "    </tr>\n",
       "    <tr>\n",
       "      <th>min</th>\n",
       "      <td>0.000000</td>\n",
       "      <td>0.000000</td>\n",
       "      <td>14.600000</td>\n",
       "      <td>0.000000</td>\n",
       "      <td>0.000000</td>\n",
       "      <td>16.000000</td>\n",
       "      <td>126.000000</td>\n",
       "      <td>0.003000</td>\n",
       "      <td>9.000000</td>\n",
       "      <td>7.000000</td>\n",
       "    </tr>\n",
       "    <tr>\n",
       "      <th>25%</th>\n",
       "      <td>507.000000</td>\n",
       "      <td>5.500000</td>\n",
       "      <td>20.300000</td>\n",
       "      <td>0.000000</td>\n",
       "      <td>1.500000</td>\n",
       "      <td>42.000000</td>\n",
       "      <td>807.250000</td>\n",
       "      <td>0.027000</td>\n",
       "      <td>28.000000</td>\n",
       "      <td>17.000000</td>\n",
       "    </tr>\n",
       "    <tr>\n",
       "      <th>50%</th>\n",
       "      <td>1046.000000</td>\n",
       "      <td>11.000000</td>\n",
       "      <td>22.900000</td>\n",
       "      <td>0.000000</td>\n",
       "      <td>2.300000</td>\n",
       "      <td>55.000000</td>\n",
       "      <td>1489.000000</td>\n",
       "      <td>0.039000</td>\n",
       "      <td>35.000000</td>\n",
       "      <td>24.000000</td>\n",
       "    </tr>\n",
       "    <tr>\n",
       "      <th>75%</th>\n",
       "      <td>1616.500000</td>\n",
       "      <td>17.000000</td>\n",
       "      <td>26.375000</td>\n",
       "      <td>0.000000</td>\n",
       "      <td>3.275000</td>\n",
       "      <td>73.750000</td>\n",
       "      <td>2000.000000</td>\n",
       "      <td>0.052250</td>\n",
       "      <td>45.000000</td>\n",
       "      <td>31.000000</td>\n",
       "    </tr>\n",
       "    <tr>\n",
       "      <th>max</th>\n",
       "      <td>2177.000000</td>\n",
       "      <td>23.000000</td>\n",
       "      <td>33.800000</td>\n",
       "      <td>1.000000</td>\n",
       "      <td>5.900000</td>\n",
       "      <td>100.000000</td>\n",
       "      <td>2000.000000</td>\n",
       "      <td>0.138000</td>\n",
       "      <td>94.000000</td>\n",
       "      <td>69.000000</td>\n",
       "    </tr>\n",
       "  </tbody>\n",
       "</table>\n",
       "</div>"
      ],
      "text/plain": [
       "                id        hour  hour_bef_temperature  hour_bef_precipitation  \\\n",
       "count   715.000000  715.000000            714.000000              714.000000   \n",
       "mean   1056.854545   11.472727             23.263305                0.051821   \n",
       "std     625.574471    6.928427              4.039645                0.221820   \n",
       "min       0.000000    0.000000             14.600000                0.000000   \n",
       "25%     507.000000    5.500000             20.300000                0.000000   \n",
       "50%    1046.000000   11.000000             22.900000                0.000000   \n",
       "75%    1616.500000   17.000000             26.375000                0.000000   \n",
       "max    2177.000000   23.000000             33.800000                1.000000   \n",
       "\n",
       "       hour_bef_windspeed  hour_bef_humidity  hour_bef_visibility  \\\n",
       "count          714.000000         714.000000           714.000000   \n",
       "mean             2.388515          56.668067          1359.494398   \n",
       "std              1.171270          19.661880           614.171870   \n",
       "min              0.000000          16.000000           126.000000   \n",
       "25%              1.500000          42.000000           807.250000   \n",
       "50%              2.300000          55.000000          1489.000000   \n",
       "75%              3.275000          73.750000          2000.000000   \n",
       "max              5.900000         100.000000          2000.000000   \n",
       "\n",
       "       hour_bef_ozone  hour_bef_pm10  hour_bef_pm2.5  \n",
       "count      680.000000     678.000000      679.000000  \n",
       "mean         0.041196      36.930678       24.939617  \n",
       "std          0.020656      12.641503       10.075857  \n",
       "min          0.003000       9.000000        7.000000  \n",
       "25%          0.027000      28.000000       17.000000  \n",
       "50%          0.039000      35.000000       24.000000  \n",
       "75%          0.052250      45.000000       31.000000  \n",
       "max          0.138000      94.000000       69.000000  "
      ]
     },
     "execution_count": 9,
     "metadata": {},
     "output_type": "execute_result"
    }
   ],
   "source": [
    "test.describe()"
   ]
  },
  {
   "cell_type": "code",
   "execution_count": 10,
   "id": "edc3df97",
   "metadata": {
    "execution": {
     "iopub.execute_input": "2022-07-05T10:17:52.600435Z",
     "iopub.status.busy": "2022-07-05T10:17:52.599442Z",
     "iopub.status.idle": "2022-07-05T10:17:52.642039Z",
     "shell.execute_reply": "2022-07-05T10:17:52.640886Z"
    },
    "papermill": {
     "duration": 0.056171,
     "end_time": "2022-07-05T10:17:52.644484",
     "exception": false,
     "start_time": "2022-07-05T10:17:52.588313",
     "status": "completed"
    },
    "tags": []
   },
   "outputs": [
    {
     "data": {
      "text/html": [
       "<div>\n",
       "<style scoped>\n",
       "    .dataframe tbody tr th:only-of-type {\n",
       "        vertical-align: middle;\n",
       "    }\n",
       "\n",
       "    .dataframe tbody tr th {\n",
       "        vertical-align: top;\n",
       "    }\n",
       "\n",
       "    .dataframe thead th {\n",
       "        text-align: right;\n",
       "    }\n",
       "</style>\n",
       "<table border=\"1\" class=\"dataframe\">\n",
       "  <thead>\n",
       "    <tr style=\"text-align: right;\">\n",
       "      <th></th>\n",
       "      <th>id</th>\n",
       "      <th>hour</th>\n",
       "      <th>hour_bef_temperature</th>\n",
       "      <th>hour_bef_precipitation</th>\n",
       "      <th>hour_bef_windspeed</th>\n",
       "      <th>hour_bef_humidity</th>\n",
       "      <th>hour_bef_visibility</th>\n",
       "      <th>hour_bef_ozone</th>\n",
       "      <th>hour_bef_pm10</th>\n",
       "      <th>hour_bef_pm2.5</th>\n",
       "      <th>count</th>\n",
       "    </tr>\n",
       "  </thead>\n",
       "  <tbody>\n",
       "    <tr>\n",
       "      <th>id</th>\n",
       "      <td>1.000000</td>\n",
       "      <td>-0.010895</td>\n",
       "      <td>-0.001181</td>\n",
       "      <td>-0.056236</td>\n",
       "      <td>0.004794</td>\n",
       "      <td>-0.020864</td>\n",
       "      <td>0.012936</td>\n",
       "      <td>0.056406</td>\n",
       "      <td>-0.026675</td>\n",
       "      <td>0.005269</td>\n",
       "      <td>0.004506</td>\n",
       "    </tr>\n",
       "    <tr>\n",
       "      <th>hour</th>\n",
       "      <td>-0.010895</td>\n",
       "      <td>1.000000</td>\n",
       "      <td>0.412688</td>\n",
       "      <td>0.021642</td>\n",
       "      <td>0.492244</td>\n",
       "      <td>-0.338976</td>\n",
       "      <td>0.175408</td>\n",
       "      <td>0.405257</td>\n",
       "      <td>-0.022840</td>\n",
       "      <td>-0.059497</td>\n",
       "      <td>0.677338</td>\n",
       "    </tr>\n",
       "    <tr>\n",
       "      <th>hour_bef_temperature</th>\n",
       "      <td>-0.001181</td>\n",
       "      <td>0.412688</td>\n",
       "      <td>1.000000</td>\n",
       "      <td>-0.107538</td>\n",
       "      <td>0.384262</td>\n",
       "      <td>-0.489407</td>\n",
       "      <td>0.173846</td>\n",
       "      <td>0.509488</td>\n",
       "      <td>-0.030947</td>\n",
       "      <td>-0.011672</td>\n",
       "      <td>0.629970</td>\n",
       "    </tr>\n",
       "    <tr>\n",
       "      <th>hour_bef_precipitation</th>\n",
       "      <td>-0.056236</td>\n",
       "      <td>0.021642</td>\n",
       "      <td>-0.107538</td>\n",
       "      <td>1.000000</td>\n",
       "      <td>0.017396</td>\n",
       "      <td>0.244645</td>\n",
       "      <td>-0.192510</td>\n",
       "      <td>-0.059152</td>\n",
       "      <td>-0.057285</td>\n",
       "      <td>0.028307</td>\n",
       "      <td>-0.194600</td>\n",
       "    </tr>\n",
       "    <tr>\n",
       "      <th>hour_bef_windspeed</th>\n",
       "      <td>0.004794</td>\n",
       "      <td>0.492244</td>\n",
       "      <td>0.384262</td>\n",
       "      <td>0.017396</td>\n",
       "      <td>1.000000</td>\n",
       "      <td>-0.450708</td>\n",
       "      <td>0.249810</td>\n",
       "      <td>0.557951</td>\n",
       "      <td>-0.029513</td>\n",
       "      <td>-0.215049</td>\n",
       "      <td>0.492857</td>\n",
       "    </tr>\n",
       "    <tr>\n",
       "      <th>hour_bef_humidity</th>\n",
       "      <td>-0.020864</td>\n",
       "      <td>-0.338976</td>\n",
       "      <td>-0.489407</td>\n",
       "      <td>0.244645</td>\n",
       "      <td>-0.450708</td>\n",
       "      <td>1.000000</td>\n",
       "      <td>-0.554451</td>\n",
       "      <td>-0.448808</td>\n",
       "      <td>-0.046608</td>\n",
       "      <td>0.224357</td>\n",
       "      <td>-0.495135</td>\n",
       "    </tr>\n",
       "    <tr>\n",
       "      <th>hour_bef_visibility</th>\n",
       "      <td>0.012936</td>\n",
       "      <td>0.175408</td>\n",
       "      <td>0.173846</td>\n",
       "      <td>-0.192510</td>\n",
       "      <td>0.249810</td>\n",
       "      <td>-0.554451</td>\n",
       "      <td>1.000000</td>\n",
       "      <td>0.122836</td>\n",
       "      <td>-0.522721</td>\n",
       "      <td>-0.689496</td>\n",
       "      <td>0.295090</td>\n",
       "    </tr>\n",
       "    <tr>\n",
       "      <th>hour_bef_ozone</th>\n",
       "      <td>0.056406</td>\n",
       "      <td>0.405257</td>\n",
       "      <td>0.509488</td>\n",
       "      <td>-0.059152</td>\n",
       "      <td>0.557951</td>\n",
       "      <td>-0.448808</td>\n",
       "      <td>0.122836</td>\n",
       "      <td>1.000000</td>\n",
       "      <td>0.112640</td>\n",
       "      <td>0.000282</td>\n",
       "      <td>0.451448</td>\n",
       "    </tr>\n",
       "    <tr>\n",
       "      <th>hour_bef_pm10</th>\n",
       "      <td>-0.026675</td>\n",
       "      <td>-0.022840</td>\n",
       "      <td>-0.030947</td>\n",
       "      <td>-0.057285</td>\n",
       "      <td>-0.029513</td>\n",
       "      <td>-0.046608</td>\n",
       "      <td>-0.522721</td>\n",
       "      <td>0.112640</td>\n",
       "      <td>1.000000</td>\n",
       "      <td>0.658057</td>\n",
       "      <td>-0.087734</td>\n",
       "    </tr>\n",
       "    <tr>\n",
       "      <th>hour_bef_pm2.5</th>\n",
       "      <td>0.005269</td>\n",
       "      <td>-0.059497</td>\n",
       "      <td>-0.011672</td>\n",
       "      <td>0.028307</td>\n",
       "      <td>-0.215049</td>\n",
       "      <td>0.224357</td>\n",
       "      <td>-0.689496</td>\n",
       "      <td>0.000282</td>\n",
       "      <td>0.658057</td>\n",
       "      <td>1.000000</td>\n",
       "      <td>-0.123039</td>\n",
       "    </tr>\n",
       "    <tr>\n",
       "      <th>count</th>\n",
       "      <td>0.004506</td>\n",
       "      <td>0.677338</td>\n",
       "      <td>0.629970</td>\n",
       "      <td>-0.194600</td>\n",
       "      <td>0.492857</td>\n",
       "      <td>-0.495135</td>\n",
       "      <td>0.295090</td>\n",
       "      <td>0.451448</td>\n",
       "      <td>-0.087734</td>\n",
       "      <td>-0.123039</td>\n",
       "      <td>1.000000</td>\n",
       "    </tr>\n",
       "  </tbody>\n",
       "</table>\n",
       "</div>"
      ],
      "text/plain": [
       "                              id      hour  hour_bef_temperature  \\\n",
       "id                      1.000000 -0.010895             -0.001181   \n",
       "hour                   -0.010895  1.000000              0.412688   \n",
       "hour_bef_temperature   -0.001181  0.412688              1.000000   \n",
       "hour_bef_precipitation -0.056236  0.021642             -0.107538   \n",
       "hour_bef_windspeed      0.004794  0.492244              0.384262   \n",
       "hour_bef_humidity      -0.020864 -0.338976             -0.489407   \n",
       "hour_bef_visibility     0.012936  0.175408              0.173846   \n",
       "hour_bef_ozone          0.056406  0.405257              0.509488   \n",
       "hour_bef_pm10          -0.026675 -0.022840             -0.030947   \n",
       "hour_bef_pm2.5          0.005269 -0.059497             -0.011672   \n",
       "count                   0.004506  0.677338              0.629970   \n",
       "\n",
       "                        hour_bef_precipitation  hour_bef_windspeed  \\\n",
       "id                                   -0.056236            0.004794   \n",
       "hour                                  0.021642            0.492244   \n",
       "hour_bef_temperature                 -0.107538            0.384262   \n",
       "hour_bef_precipitation                1.000000            0.017396   \n",
       "hour_bef_windspeed                    0.017396            1.000000   \n",
       "hour_bef_humidity                     0.244645           -0.450708   \n",
       "hour_bef_visibility                  -0.192510            0.249810   \n",
       "hour_bef_ozone                       -0.059152            0.557951   \n",
       "hour_bef_pm10                        -0.057285           -0.029513   \n",
       "hour_bef_pm2.5                        0.028307           -0.215049   \n",
       "count                                -0.194600            0.492857   \n",
       "\n",
       "                        hour_bef_humidity  hour_bef_visibility  \\\n",
       "id                              -0.020864             0.012936   \n",
       "hour                            -0.338976             0.175408   \n",
       "hour_bef_temperature            -0.489407             0.173846   \n",
       "hour_bef_precipitation           0.244645            -0.192510   \n",
       "hour_bef_windspeed              -0.450708             0.249810   \n",
       "hour_bef_humidity                1.000000            -0.554451   \n",
       "hour_bef_visibility             -0.554451             1.000000   \n",
       "hour_bef_ozone                  -0.448808             0.122836   \n",
       "hour_bef_pm10                   -0.046608            -0.522721   \n",
       "hour_bef_pm2.5                   0.224357            -0.689496   \n",
       "count                           -0.495135             0.295090   \n",
       "\n",
       "                        hour_bef_ozone  hour_bef_pm10  hour_bef_pm2.5  \\\n",
       "id                            0.056406      -0.026675        0.005269   \n",
       "hour                          0.405257      -0.022840       -0.059497   \n",
       "hour_bef_temperature          0.509488      -0.030947       -0.011672   \n",
       "hour_bef_precipitation       -0.059152      -0.057285        0.028307   \n",
       "hour_bef_windspeed            0.557951      -0.029513       -0.215049   \n",
       "hour_bef_humidity            -0.448808      -0.046608        0.224357   \n",
       "hour_bef_visibility           0.122836      -0.522721       -0.689496   \n",
       "hour_bef_ozone                1.000000       0.112640        0.000282   \n",
       "hour_bef_pm10                 0.112640       1.000000        0.658057   \n",
       "hour_bef_pm2.5                0.000282       0.658057        1.000000   \n",
       "count                         0.451448      -0.087734       -0.123039   \n",
       "\n",
       "                           count  \n",
       "id                      0.004506  \n",
       "hour                    0.677338  \n",
       "hour_bef_temperature    0.629970  \n",
       "hour_bef_precipitation -0.194600  \n",
       "hour_bef_windspeed      0.492857  \n",
       "hour_bef_humidity      -0.495135  \n",
       "hour_bef_visibility     0.295090  \n",
       "hour_bef_ozone          0.451448  \n",
       "hour_bef_pm10          -0.087734  \n",
       "hour_bef_pm2.5         -0.123039  \n",
       "count                   1.000000  "
      ]
     },
     "execution_count": 10,
     "metadata": {},
     "output_type": "execute_result"
    }
   ],
   "source": [
    "train.corr(method=\"spearman\", min_periods=1)"
   ]
  },
  {
   "cell_type": "code",
   "execution_count": 11,
   "id": "698ceaa3",
   "metadata": {
    "execution": {
     "iopub.execute_input": "2022-07-05T10:17:52.666966Z",
     "iopub.status.busy": "2022-07-05T10:17:52.666600Z",
     "iopub.status.idle": "2022-07-05T10:17:53.500739Z",
     "shell.execute_reply": "2022-07-05T10:17:53.499837Z"
    },
    "papermill": {
     "duration": 0.84854,
     "end_time": "2022-07-05T10:17:53.503492",
     "exception": false,
     "start_time": "2022-07-05T10:17:52.654952",
     "status": "completed"
    },
    "tags": []
   },
   "outputs": [
    {
     "data": {
      "text/plain": [
       "<AxesSubplot:title={'center':'The correlation of the number of lental bicycle'}>"
      ]
     },
     "execution_count": 11,
     "metadata": {},
     "output_type": "execute_result"
    },
    {
     "data": {
      "image/png": "[encoded data removed]",
      "text/plain": [
       "<Figure size 1008x504 with 2 Axes>"
      ]
     },
     "metadata": {
      "needs_background": "light"
     },
     "output_type": "display_data"
    }
   ],
   "source": [
    "# Correlation between count and other columns\n",
    "corr = train.corr(method=\"spearman\", min_periods=1)\n",
    "\n",
    "# Set the width and height of the figure\n",
    "plt.figure(figsize=(14, 7))\n",
    "\n",
    "# Add title\n",
    "plt.title(\"The correlation of the number of lental bicycle\")\n",
    "\n",
    "# Heatmap showing correlation between count and other columns\n",
    "sns.heatmap(data=corr, annot=True)\n"
   ]
  },
  {
   "cell_type": "code",
   "execution_count": 12,
   "id": "6371f04d",
   "metadata": {
    "execution": {
     "iopub.execute_input": "2022-07-05T10:17:53.529834Z",
     "iopub.status.busy": "2022-07-05T10:17:53.529459Z",
     "iopub.status.idle": "2022-07-05T10:17:53.534036Z",
     "shell.execute_reply": "2022-07-05T10:17:53.533060Z"
    },
    "papermill": {
     "duration": 0.021641,
     "end_time": "2022-07-05T10:17:53.537627",
     "exception": false,
     "start_time": "2022-07-05T10:17:53.515986",
     "status": "completed"
    },
    "tags": []
   },
   "outputs": [],
   "source": [
    "# Chooce features with correlation is positive\n",
    "ddareung_features = ['hour', 'hour_bef_temperature', 'hour_bef_windspeed', 'hour_bef_visibility', 'hour_bef_ozone']"
   ]
  },
  {
   "cell_type": "code",
   "execution_count": 13,
   "id": "73f6e3c5",
   "metadata": {
    "execution": {
     "iopub.execute_input": "2022-07-05T10:17:53.563936Z",
     "iopub.status.busy": "2022-07-05T10:17:53.563240Z",
     "iopub.status.idle": "2022-07-05T10:17:53.566976Z",
     "shell.execute_reply": "2022-07-05T10:17:53.566182Z"
    },
    "papermill": {
     "duration": 0.019367,
     "end_time": "2022-07-05T10:17:53.569171",
     "exception": false,
     "start_time": "2022-07-05T10:17:53.549804",
     "status": "completed"
    },
    "tags": []
   },
   "outputs": [],
   "source": [
    "# to do list\n",
    "# normalize"
   ]
  },
  {
   "cell_type": "markdown",
   "id": "353ad7f8",
   "metadata": {
    "id": "7T4NNGQbKT52",
    "papermill": {
     "duration": 0.011778,
     "end_time": "2022-07-05T10:17:53.592947",
     "exception": false,
     "start_time": "2022-07-05T10:17:53.581169",
     "status": "completed"
    },
    "tags": []
   },
   "source": [
    "## Validation and processing of null"
   ]
  },
  {
   "cell_type": "code",
   "execution_count": 14,
   "id": "6754eaab",
   "metadata": {
    "execution": {
     "iopub.execute_input": "2022-07-05T10:17:53.618898Z",
     "iopub.status.busy": "2022-07-05T10:17:53.618167Z",
     "iopub.status.idle": "2022-07-05T10:17:53.626363Z",
     "shell.execute_reply": "2022-07-05T10:17:53.625480Z"
    },
    "id": "Pdj-uplvKMsH",
    "outputId": "3da8274c-1e55-408d-917a-4e9502961959",
    "papermill": {
     "duration": 0.023492,
     "end_time": "2022-07-05T10:17:53.628304",
     "exception": false,
     "start_time": "2022-07-05T10:17:53.604812",
     "status": "completed"
    },
    "tags": []
   },
   "outputs": [
    {
     "data": {
      "text/plain": [
       "id                          0\n",
       "hour                        0\n",
       "hour_bef_temperature        2\n",
       "hour_bef_precipitation      2\n",
       "hour_bef_windspeed          9\n",
       "hour_bef_humidity           2\n",
       "hour_bef_visibility         2\n",
       "hour_bef_ozone             76\n",
       "hour_bef_pm10              90\n",
       "hour_bef_pm2.5            117\n",
       "count                       0\n",
       "dtype: int64"
      ]
     },
     "execution_count": 14,
     "metadata": {},
     "output_type": "execute_result"
    }
   ],
   "source": [
    "train.isnull().sum()"
   ]
  },
  {
   "cell_type": "code",
   "execution_count": 15,
   "id": "2e51fbf8",
   "metadata": {
    "execution": {
     "iopub.execute_input": "2022-07-05T10:17:53.654731Z",
     "iopub.status.busy": "2022-07-05T10:17:53.653980Z",
     "iopub.status.idle": "2022-07-05T10:17:53.662116Z",
     "shell.execute_reply": "2022-07-05T10:17:53.661152Z"
    },
    "id": "J4VedGdkKOFe",
    "outputId": "322a3830-b70d-4254-8c33-83afd7088788",
    "papermill": {
     "duration": 0.02366,
     "end_time": "2022-07-05T10:17:53.664073",
     "exception": false,
     "start_time": "2022-07-05T10:17:53.640413",
     "status": "completed"
    },
    "tags": []
   },
   "outputs": [
    {
     "data": {
      "text/plain": [
       "id                         0\n",
       "hour                       0\n",
       "hour_bef_temperature       1\n",
       "hour_bef_precipitation     1\n",
       "hour_bef_windspeed         1\n",
       "hour_bef_humidity          1\n",
       "hour_bef_visibility        1\n",
       "hour_bef_ozone            35\n",
       "hour_bef_pm10             37\n",
       "hour_bef_pm2.5            36\n",
       "dtype: int64"
      ]
     },
     "execution_count": 15,
     "metadata": {},
     "output_type": "execute_result"
    }
   ],
   "source": [
    "test.isnull().sum()"
   ]
  },
  {
   "cell_type": "code",
   "execution_count": 16,
   "id": "e5c8a805",
   "metadata": {
    "execution": {
     "iopub.execute_input": "2022-07-05T10:17:53.690446Z",
     "iopub.status.busy": "2022-07-05T10:17:53.689748Z",
     "iopub.status.idle": "2022-07-05T10:17:53.694813Z",
     "shell.execute_reply": "2022-07-05T10:17:53.694001Z"
    },
    "id": "M_-tgG09KQRC",
    "papermill": {
     "duration": 0.020566,
     "end_time": "2022-07-05T10:17:53.696732",
     "exception": false,
     "start_time": "2022-07-05T10:17:53.676166",
     "status": "completed"
    },
    "tags": []
   },
   "outputs": [],
   "source": [
    "train.fillna(0,inplace = True)\n",
    "test.fillna(0,inplace = True)"
   ]
  },
  {
   "cell_type": "code",
   "execution_count": 17,
   "id": "4508961c",
   "metadata": {
    "execution": {
     "iopub.execute_input": "2022-07-05T10:17:53.722594Z",
     "iopub.status.busy": "2022-07-05T10:17:53.722194Z",
     "iopub.status.idle": "2022-07-05T10:17:53.735229Z",
     "shell.execute_reply": "2022-07-05T10:17:53.734139Z"
    },
    "papermill": {
     "duration": 0.029173,
     "end_time": "2022-07-05T10:17:53.738061",
     "exception": false,
     "start_time": "2022-07-05T10:17:53.708888",
     "status": "completed"
    },
    "tags": []
   },
   "outputs": [
    {
     "name": "stdout",
     "output_type": "stream",
     "text": [
      "<class 'pandas.core.frame.DataFrame'>\n",
      "RangeIndex: 1459 entries, 0 to 1458\n",
      "Data columns (total 11 columns):\n",
      " #   Column                  Non-Null Count  Dtype  \n",
      "---  ------                  --------------  -----  \n",
      " 0   id                      1459 non-null   int64  \n",
      " 1   hour                    1459 non-null   int64  \n",
      " 2   hour_bef_temperature    1459 non-null   float64\n",
      " 3   hour_bef_precipitation  1459 non-null   float64\n",
      " 4   hour_bef_windspeed      1459 non-null   float64\n",
      " 5   hour_bef_humidity       1459 non-null   float64\n",
      " 6   hour_bef_visibility     1459 non-null   float64\n",
      " 7   hour_bef_ozone          1459 non-null   float64\n",
      " 8   hour_bef_pm10           1459 non-null   float64\n",
      " 9   hour_bef_pm2.5          1459 non-null   float64\n",
      " 10  count                   1459 non-null   float64\n",
      "dtypes: float64(9), int64(2)\n",
      "memory usage: 125.5 KB\n"
     ]
    }
   ],
   "source": [
    "train.info()"
   ]
  },
  {
   "cell_type": "code",
   "execution_count": 18,
   "id": "4e8a043a",
   "metadata": {
    "execution": {
     "iopub.execute_input": "2022-07-05T10:17:53.764166Z",
     "iopub.status.busy": "2022-07-05T10:17:53.763512Z",
     "iopub.status.idle": "2022-07-05T10:17:53.774874Z",
     "shell.execute_reply": "2022-07-05T10:17:53.773740Z"
    },
    "papermill": {
     "duration": 0.027266,
     "end_time": "2022-07-05T10:17:53.777492",
     "exception": false,
     "start_time": "2022-07-05T10:17:53.750226",
     "status": "completed"
    },
    "tags": []
   },
   "outputs": [
    {
     "name": "stdout",
     "output_type": "stream",
     "text": [
      "<class 'pandas.core.frame.DataFrame'>\n",
      "RangeIndex: 715 entries, 0 to 714\n",
      "Data columns (total 10 columns):\n",
      " #   Column                  Non-Null Count  Dtype  \n",
      "---  ------                  --------------  -----  \n",
      " 0   id                      715 non-null    int64  \n",
      " 1   hour                    715 non-null    int64  \n",
      " 2   hour_bef_temperature    715 non-null    float64\n",
      " 3   hour_bef_precipitation  715 non-null    float64\n",
      " 4   hour_bef_windspeed      715 non-null    float64\n",
      " 5   hour_bef_humidity       715 non-null    float64\n",
      " 6   hour_bef_visibility     715 non-null    float64\n",
      " 7   hour_bef_ozone          715 non-null    float64\n",
      " 8   hour_bef_pm10           715 non-null    float64\n",
      " 9   hour_bef_pm2.5          715 non-null    float64\n",
      "dtypes: float64(8), int64(2)\n",
      "memory usage: 56.0 KB\n"
     ]
    }
   ],
   "source": [
    "test.info()"
   ]
  },
  {
   "cell_type": "markdown",
   "id": "3d63ea50",
   "metadata": {
    "id": "WFmBcnx2LLDe",
    "papermill": {
     "duration": 0.012054,
     "end_time": "2022-07-05T10:17:53.801872",
     "exception": false,
     "start_time": "2022-07-05T10:17:53.789818",
     "status": "completed"
    },
    "tags": []
   },
   "source": [
    "## Define and fit model"
   ]
  },
  {
   "cell_type": "code",
   "execution_count": 19,
   "id": "8f45b4cc",
   "metadata": {
    "execution": {
     "iopub.execute_input": "2022-07-05T10:17:53.829448Z",
     "iopub.status.busy": "2022-07-05T10:17:53.828554Z",
     "iopub.status.idle": "2022-07-05T10:17:53.834518Z",
     "shell.execute_reply": "2022-07-05T10:17:53.833595Z"
    },
    "id": "VALRp2K-LUBn",
    "papermill": {
     "duration": 0.022164,
     "end_time": "2022-07-05T10:17:53.836731",
     "exception": false,
     "start_time": "2022-07-05T10:17:53.814567",
     "status": "completed"
    },
    "tags": []
   },
   "outputs": [],
   "source": [
    "train_x = train.drop(['count'],axis = 1)\n",
    "train_y = train['count']"
   ]
  },
  {
   "cell_type": "code",
   "execution_count": 20,
   "id": "339eb831",
   "metadata": {
    "execution": {
     "iopub.execute_input": "2022-07-05T10:17:53.864198Z",
     "iopub.status.busy": "2022-07-05T10:17:53.862840Z",
     "iopub.status.idle": "2022-07-05T10:17:54.631004Z",
     "shell.execute_reply": "2022-07-05T10:17:54.630159Z"
    },
    "id": "WZ5MuARhLPX7",
    "outputId": "5d0f5f9b-f558-412f-a3c0-f2e0ce3ce3c9",
    "papermill": {
     "duration": 0.785098,
     "end_time": "2022-07-05T10:17:54.634124",
     "exception": false,
     "start_time": "2022-07-05T10:17:53.849026",
     "status": "completed"
    },
    "tags": []
   },
   "outputs": [
    {
     "data": {
      "text/plain": [
       "RandomForestRegressor()"
      ]
     },
     "execution_count": 20,
     "metadata": {},
     "output_type": "execute_result"
    }
   ],
   "source": [
    "model=RandomForestRegressor(n_estimators=100)\n",
    "model.fit(train_x,train_y)"
   ]
  },
  {
   "cell_type": "markdown",
   "id": "3d07eda0",
   "metadata": {
    "id": "jN5oDFfCL7fc",
    "papermill": {
     "duration": 0.011853,
     "end_time": "2022-07-05T10:17:54.659336",
     "exception": false,
     "start_time": "2022-07-05T10:17:54.647483",
     "status": "completed"
    },
    "tags": []
   },
   "source": [
    "## Generate the data with trained the model "
   ]
  },
  {
   "cell_type": "code",
   "execution_count": 21,
   "id": "6be8b0ef",
   "metadata": {
    "execution": {
     "iopub.execute_input": "2022-07-05T10:17:54.685714Z",
     "iopub.status.busy": "2022-07-05T10:17:54.684651Z",
     "iopub.status.idle": "2022-07-05T10:17:54.716795Z",
     "shell.execute_reply": "2022-07-05T10:17:54.715259Z"
    },
    "id": "ITPZ9W3fLkPf",
    "papermill": {
     "duration": 0.04847,
     "end_time": "2022-07-05T10:17:54.719746",
     "exception": false,
     "start_time": "2022-07-05T10:17:54.671276",
     "status": "completed"
    },
    "tags": []
   },
   "outputs": [],
   "source": [
    "pred = model.predict(test)"
   ]
  },
  {
   "cell_type": "markdown",
   "id": "0ca72a04",
   "metadata": {
    "id": "8cmQhhzjL-MD",
    "papermill": {
     "duration": 0.012213,
     "end_time": "2022-07-05T10:17:54.744762",
     "exception": false,
     "start_time": "2022-07-05T10:17:54.732549",
     "status": "completed"
    },
    "tags": []
   },
   "source": [
    "## Create submission file"
   ]
  },
  {
   "cell_type": "code",
   "execution_count": 22,
   "id": "80ce77b4",
   "metadata": {
    "execution": {
     "iopub.execute_input": "2022-07-05T10:17:54.771611Z",
     "iopub.status.busy": "2022-07-05T10:17:54.770800Z",
     "iopub.status.idle": "2022-07-05T10:17:54.775403Z",
     "shell.execute_reply": "2022-07-05T10:17:54.774323Z"
    },
    "id": "HC_74SxhLozW",
    "outputId": "4059a217-b6dd-4783-aee3-46acda2e8d63",
    "papermill": {
     "duration": 0.020548,
     "end_time": "2022-07-05T10:17:54.777713",
     "exception": false,
     "start_time": "2022-07-05T10:17:54.757165",
     "status": "completed"
    },
    "tags": []
   },
   "outputs": [],
   "source": [
    "# submission = pd.read_csv('/content/data/submission.csv')\n",
    "# submission"
   ]
  },
  {
   "cell_type": "code",
   "execution_count": 23,
   "id": "506b1af2",
   "metadata": {
    "execution": {
     "iopub.execute_input": "2022-07-05T10:17:54.804587Z",
     "iopub.status.busy": "2022-07-05T10:17:54.803392Z",
     "iopub.status.idle": "2022-07-05T10:17:54.808640Z",
     "shell.execute_reply": "2022-07-05T10:17:54.807885Z"
    },
    "id": "erbo9F9dLuzX",
    "papermill": {
     "duration": 0.020874,
     "end_time": "2022-07-05T10:17:54.810827",
     "exception": false,
     "start_time": "2022-07-05T10:17:54.789953",
     "status": "completed"
    },
    "tags": []
   },
   "outputs": [],
   "source": [
    "# submission['count'] = pred"
   ]
  },
  {
   "cell_type": "code",
   "execution_count": 24,
   "id": "2019b1bd",
   "metadata": {
    "execution": {
     "iopub.execute_input": "2022-07-05T10:17:54.839487Z",
     "iopub.status.busy": "2022-07-05T10:17:54.838657Z",
     "iopub.status.idle": "2022-07-05T10:17:54.843498Z",
     "shell.execute_reply": "2022-07-05T10:17:54.842667Z"
    },
    "id": "Fz5ZjLPgMZ9Z",
    "outputId": "a44bc783-6708-448d-d1ea-b03904dcaf09",
    "papermill": {
     "duration": 0.021983,
     "end_time": "2022-07-05T10:17:54.845684",
     "exception": false,
     "start_time": "2022-07-05T10:17:54.823701",
     "status": "completed"
    },
    "tags": []
   },
   "outputs": [],
   "source": [
    "# submission"
   ]
  },
  {
   "cell_type": "code",
   "execution_count": 25,
   "id": "5085b2d3",
   "metadata": {
    "execution": {
     "iopub.execute_input": "2022-07-05T10:17:54.872690Z",
     "iopub.status.busy": "2022-07-05T10:17:54.871894Z",
     "iopub.status.idle": "2022-07-05T10:17:54.876518Z",
     "shell.execute_reply": "2022-07-05T10:17:54.875795Z"
    },
    "id": "Ggp9jIZ7Lyf6",
    "papermill": {
     "duration": 0.020641,
     "end_time": "2022-07-05T10:17:54.878603",
     "exception": false,
     "start_time": "2022-07-05T10:17:54.857962",
     "status": "completed"
    },
    "tags": []
   },
   "outputs": [],
   "source": [
    "# submission.to_csv('베이스라인.csv',index = False)"
   ]
  }
 ],
 "metadata": {
  "kernelspec": {
   "display_name": "Python 3",
   "language": "python",
   "name": "python3"
  },
  "language_info": {
   "codemirror_mode": {
    "name": "ipython",
    "version": 3
   },
   "file_extension": ".py",
   "mimetype": "text/x-python",
   "name": "python",
   "nbconvert_exporter": "python",
   "pygments_lexer": "ipython3",
   "version": "3.7.12"
  },
  "papermill": {
   "default_parameters": {},
   "duration": 14.128764,
   "end_time": "2022-07-05T10:17:55.613358",
   "environment_variables": {},
   "exception": null,
   "input_path": "__notebook__.ipynb",
   "output_path": "__notebook__.ipynb",
   "parameters": {},
   "start_time": "2022-07-05T10:17:41.484594",
   "version": "2.3.4"
  }
 },
 "nbformat": 4,
 "nbformat_minor": 5
}
